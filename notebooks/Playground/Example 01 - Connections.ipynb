{
 "cells": [
  {
   "cell_type": "markdown",
   "id": "0911a63e-9a58-4d0f-a4f9-5106ab0a99c6",
   "metadata": {},
   "source": [
    "# Create a connection\n",
    "\n",
    "Establishing a connection between two peers, the Inviter and Invitee, begins with the Inviter creating an out-of-band (oob) invitation. This invitation contains all the necessary information for the Invitee to connect with the Inviter. Once the invitation is created, it must be handed to the Invitee in some way, such as through email, messaging or QR code. Once the Invitee receives the invitation, they must accept it to proceed with the connection. Finally, with the invitation accepted, the connection is established, allowing the two peers to communicate and share data.\n",
    "\n",
    "This example presents the steps required to connect an Inviter and an Invitee."
   ]
  },
  {
   "cell_type": "code",
   "execution_count": null,
   "id": "5462ef1f-e512-4f39-91e5-4c2b73c5be6b",
   "metadata": {
    "tags": []
   },
   "outputs": [],
   "source": [
    "#🚨 Run this code cell to import requirements in the Kernel\n",
    "\n",
    "import os\n",
    "import datetime\n",
    "import time\n",
    "import requests\n",
    "from pprint import pprint\n",
    "from dotenv import load_dotenv\n",
    "\n",
    "from prism_agent_client import Client\n",
    "from prism_agent_client.models import Connection, ConnectionsPage, ConnectionInvitation,CreateConnectionRequest,AcceptConnectionInvitationRequest\n",
    "from prism_agent_client.api.connections_management import get_connections,get_connection,create_connection,accept_connection_invitation\n",
    "from prism_agent_client.types import Response"
   ]
  },
  {
   "cell_type": "markdown",
   "id": "311e0392-b60b-4e23-bf82-eb05aeeecb10",
   "metadata": {},
   "source": [
    "### Utilitary functions"
   ]
  },
  {
   "cell_type": "code",
   "execution_count": null,
   "id": "9733ecb3-dab9-4c5b-b0c2-025c554150aa",
   "metadata": {
    "tags": []
   },
   "outputs": [],
   "source": [
    "def get_invitation_str(connection):\n",
    "    parts = connection.invitation.invitation_url.split(\"=\")\n",
    "    return parts[1]\n",
    "\n",
    "def print_connection(connection):\n",
    "    print(f\"connection_id: {connection.connection_id}\")\n",
    "    print(f\"state:         {connection.state}\")\n",
    "    print(f\"label:         {connection.label}\")\n",
    "    print(f\"my_did:        {connection.my_did}\")\n",
    "    print(f\"their_did:     {connection.their_did}\")\n",
    "    print(f\"created_at:    {connection.created_at}\")\n",
    "    print(f\"OOB Invitation: {get_invitation_str(connection)}\")\n",
    "    \n",
    "troubleshooting_message = f'''\n",
    "🚨 An issue occurred while attempting to interact with the PRISM Agent 🚨\n",
    "\n",
    "- Check that the PRISM Agent you are trying to connect to is up and running, and that it is listening on the correct port. \n",
    "  You can try to connect to the Agent using a different tool to confirm that it is available. \n",
    "  (e.g. `curl --location '<host:port>/prism-agent/connections' --header 'apiKey: <key>'`) \n",
    "- Check if there are any network issues preventing the Notebook from connecting to the Agent. This can include firewalls, \n",
    "  proxies, and other network configurations.\n",
    "- Ensure that the Agent URL is correct, and that the correct API Keys are provided in the variables.env file.\n",
    "- If none of the above solutions work, check the logs of the Agent container to see if there are any more specific error \n",
    "  messages that can help diagnose the issue.'''\n",
    "\n",
    "def preflight(url, api_key):\n",
    "    try:\n",
    "        endpoint = f'{url}/connections'\n",
    "        headers = {'apiKey': api_key}\n",
    "        response = requests.get(endpoint, headers=headers, timeout=15)\n",
    "        if response.status_code == 200:\n",
    "            print(f\"URL ok: {url}\")\n",
    "        else:\n",
    "            raise Exception(f\"URL: {response.url} code: {response.status_code} content: {response.text}\")\n",
    "    except Exception as Ex:\n",
    "        raise Exception(f'{troubleshooting_message}\\n\\nURL: {url}\\nAPI Key: {api_key != \"\"}')"
   ]
  },
  {
   "cell_type": "markdown",
   "id": "46b9afe5-ff61-4116-870b-103d3f065506",
   "metadata": {},
   "source": [
    "### Client instances\n",
    "\n",
    "To start, we will create two separate clients, one for the inviter and one for the invitee, to establish a connection. The roles of the inviter and invitee may overlap with the traditional holder, prover, issuer, and verifier relationships. In some cases, the inviter may also be an issuer or verifier, while the invitee may have the role of a holder or prover. This flexibility allows for different scenarios and use cases to be supported within the same flow.\n",
    "\n",
    "⚠️ Remember to update the file variables.env with the URLs and API keys provided to you.\n"
   ]
  },
  {
   "cell_type": "markdown",
   "id": "11cdb90b-f00c-46b5-bfb9-21099b924aa4",
   "metadata": {
    "tags": []
   },
   "source": [
    "#### ⚠️ NOTE:\n",
    "If your host operating system is a nix-based OS that is not OSX or Windows please ensure you load the `../BetaProgram/variables_linux.env` environment variables.  \n",
    "To do this uncomment the following line in the cell below: `#load_dotenv(\"../BetaProgram/variables-linux.env\")`.  \n",
    "Otherwise you will encounter issues with errors such as `ConnectionRefusedError`, `ConnectError: [Errno <n>] Name or service not known`"
   ]
  },
  {
   "cell_type": "code",
   "execution_count": null,
   "id": "cb32dc0d-55bc-44cd-865e-19b9502e23d6",
   "metadata": {
    "tags": []
   },
   "outputs": [],
   "source": [
    "load_dotenv(\"../Playground/variables.env\")\n",
    "#load_dotenv(\"../Playground/variables-linux.env\")\n",
    "\n",
    "inviterApiKey = os.getenv('ISSUER_APIKEY')\n",
    "inviterUrl = os.getenv('ISSUER_URL')\n",
    "\n",
    "inviteeApiKey = os.getenv('HOLDER_APIKEY')\n",
    "inviteeUrl = os.getenv('HOLDER_URL')\n",
    "\n",
    "inviter_client = Client(base_url=inviterUrl, headers={\"apiKey\": inviterApiKey})\n",
    "invitee_client = Client(base_url=inviteeUrl, headers={\"apiKey\": inviteeApiKey})\n",
    "\n",
    "%xmode Minimal\n",
    "\n",
    "preflight(inviterUrl, inviterApiKey)\n",
    "preflight(inviteeUrl, inviteeApiKey)\n",
    "\n",
    "%xmode Verbose"
   ]
  },
  {
   "cell_type": "markdown",
   "id": "0f4ebed2-a890-4463-912c-96cde7ba3961",
   "metadata": {},
   "source": [
    "### Inviter - Create the invitation\n",
    "\n",
    "The Inviter creates an invitation with a `create_connection` request. The only parameter required is a `label` to identify the connection with a human-readable format. \n",
    "\n",
    "The connection state, at the Inviter, will be set to `InvitationGenerated`"
   ]
  },
  {
   "cell_type": "code",
   "execution_count": null,
   "id": "09aeafb8-16e6-49ae-a75c-a42fa96572b8",
   "metadata": {
    "tags": []
   },
   "outputs": [],
   "source": [
    "conn_request = CreateConnectionRequest()\n",
    "conn_request.label = f'Connect {datetime.datetime.now().strftime(\"%Y-%m-%d %H:%M:%S\")}'\n",
    "inviter_connection: Response[Connection] =  create_connection.sync(client=inviter_client,json_body=conn_request)\n",
    "\n",
    "invitation = get_invitation_str(inviter_connection)\n",
    "print_connection(inviter_connection)"
   ]
  },
  {
   "cell_type": "markdown",
   "id": "e076cafc-45a0-44b7-ad95-7ead9f5603f8",
   "metadata": {},
   "source": [
    "### Invitee - Accept the invitation \n",
    "\n",
    "When the Inviter creates the invitation, there is no connection on the Invitee side, which is why the invitation is shared out of band. Here we conveniently use a variable to pass the invitation to the Invitee with the `accept_connection_invitation` request.\n",
    "\n",
    "The PRISM Agent does the process to establish the connection automatically, so it may not be possible to track all the protocol steps. They progress as described below:\n",
    "\n",
    "**Invitee:** `ConnectionRequestPending` --> `ConnectionRequestSent` --> `ConnectionResponseReceived`\n",
    "\n",
    "**Inviter:** `InvitationGenerated` --> `ConnectionResponsePending` --> `ConnectionResponseSent`\n",
    "\n",
    "After the next code block is executed, the connection will be established.\n",
    "\n",
    ">**Note -** if the while loop gets stuck replace:  \n",
    ">```while (inviter_connection.state != 'ConnectionResponseSent' or invitee_connection.state != 'ConnectionResponseReceived'):```    \n",
    ">    with:  \n",
    ">```while (inviter_connection.state != 'ConnectionResponseSent' or not(invitee_connection.state == 'ConnectionResponseReceived' or invitee_connection.state == 'ConnectionRequestSent')):```  "
   ]
  },
  {
   "cell_type": "code",
   "execution_count": null,
   "id": "7a407846-195e-4ed9-9f2d-6c08ba0e94ef",
   "metadata": {
    "tags": []
   },
   "outputs": [],
   "source": [
    "print(\"Please wait...\")\n",
    "\n",
    "accept_conn_request = AcceptConnectionInvitationRequest(invitation)\n",
    "invitee_connection: Response[ConnectionInvitation] =  accept_connection_invitation.sync(client=invitee_client,json_body=accept_conn_request)\n",
    "\n",
    "while (inviter_connection.state != 'ConnectionResponseSent' or invitee_connection.state != 'ConnectionResponseReceived'):\n",
    "    inviter_connection: Response[Connection] = get_connection.sync(client=inviter_client,connection_id=inviter_connection.connection_id)\n",
    "    invitee_connection: Response[Connection] = get_connection.sync(client=invitee_client,connection_id=invitee_connection.connection_id)\n",
    "    print(\"Inviter State: {} / Invitee State: {} \\n\".format(inviter_connection.state,invitee_connection.state))\n",
    "    time.sleep(1)\n",
    "    \n",
    "print(\"Connection established between Issuer and Holder!\")"
   ]
  },
  {
   "cell_type": "markdown",
   "id": "7a3b2d2b-7039-4d93-8adc-9aed8ad7b77a",
   "metadata": {},
   "source": [
    "### Inviter - Check connection\n",
    "\n",
    "The details of the connection on the Inviter side are as presented below:"
   ]
  },
  {
   "cell_type": "code",
   "execution_count": null,
   "id": "11b7b03d-cddf-483b-b133-67e55bdbafe5",
   "metadata": {
    "tags": []
   },
   "outputs": [],
   "source": [
    "inviter_connection: Response[Connection] =  get_connection.sync(client=inviter_client,connection_id=inviter_connection.connection_id)\n",
    "print_connection(inviter_connection)"
   ]
  },
  {
   "cell_type": "markdown",
   "id": "295ed0ca-be80-406b-913c-b4e8ec8011ed",
   "metadata": {},
   "source": [
    "### Invitee - Check connection\n",
    "\n",
    "The details of the connection on the Invitee side are as presented below:"
   ]
  },
  {
   "cell_type": "code",
   "execution_count": null,
   "id": "3129389a-bca8-4124-9fe8-d6184cee1d71",
   "metadata": {
    "tags": []
   },
   "outputs": [],
   "source": [
    "invitee_connection: Response[Connection] =  get_connection.sync(client=invitee_client,connection_id=invitee_connection.connection_id)\n",
    "print_connection(invitee_connection)"
   ]
  },
  {
   "cell_type": "markdown",
   "id": "60f90e75-84e5-4002-831e-9fc477b84e31",
   "metadata": {},
   "source": [
    "### List all connections\n",
    "\n",
    "The request `get_connections` retrieves the lists of connections. (only printing the first 3)"
   ]
  },
  {
   "cell_type": "code",
   "execution_count": null,
   "id": "c984557c-5420-46a3-8f0b-c5f0f8e24c95",
   "metadata": {
    "tags": []
   },
   "outputs": [],
   "source": [
    "inviter_connections: Response[ConnectionsPage] = get_connections.sync(client=inviter_client)\n",
    "invitee_connections: Response[ConnectionsPage] = get_connections.sync(client=invitee_client)\n",
    "\n",
    "print(\"Inviter connections\")\n",
    "print(\"-------------------\\n\")\n",
    "pprint(f\"{inviter_connections.contents[0:3]}\")\n",
    "print(\"\\nInvitee connections\")\n",
    "print(\"-------------------\\n\")\n",
    "pprint(f\"{invitee_connections.contents[0:3]}\")"
   ]
  }
 ],
 "metadata": {
  "kernelspec": {
   "display_name": "Python 3 (ipykernel)",
   "language": "python",
   "name": "python3"
  },
  "language_info": {
   "codemirror_mode": {
    "name": "ipython",
    "version": 3
   },
   "file_extension": ".py",
   "mimetype": "text/x-python",
   "name": "python",
   "nbconvert_exporter": "python",
   "pygments_lexer": "ipython3",
   "version": "3.11.4"
  },
  "vscode": {
   "interpreter": {
    "hash": "916dbcbb3f70747c44a77c7bcd40155683ae19c65e1c03b4aa3499c5328201f1"
   }
  }
 },
 "nbformat": 4,
 "nbformat_minor": 5
}
