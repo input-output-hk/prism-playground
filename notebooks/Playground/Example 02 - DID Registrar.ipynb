{
 "cells": [
  {
   "attachments": {},
   "cell_type": "markdown",
   "id": "1f014b50-8a8a-431c-9dcb-0e5a27287557",
   "metadata": {},
   "source": [
    "## DID Registrar\n",
    "\n",
    "The DID Registrar contains endpoints to create and manage PRISM DIDs. In this scenatio the keys are managed by PRISM Agent."
   ]
  },
  {
   "cell_type": "code",
   "execution_count": null,
   "id": "903ce70f-3a78-4491-8e6c-9a55c164d5ab",
   "metadata": {
    "tags": []
   },
   "outputs": [],
   "source": [
    "#🚨 Run this code cell to import requirements in the Kernel\n",
    "\n",
    "import os\n",
    "import time\n",
    "import datetime\n",
    "import base64\n",
    "import uuid\n",
    "import requests\n",
    "from pprint import pprint\n",
    "from dotenv import load_dotenv\n",
    "from typing import Any, Dict, Optional, Union, cast\n",
    "\n",
    "from prism_agent_client import Client\n",
    "from prism_agent_client.models import ErrorResponse\n",
    "from prism_agent_client.types import Response, Unset\n",
    "from prism_agent_client.models import CreateManagedDidRequestDocumentTemplate, CreateManagedDidRequest, CreateManagedDIDResponse\n",
    "\n",
    "from prism_agent_client.models import UpdateManagedDIDRequest\n",
    "from prism_agent_client.models import DIDDocumentMetadata, DIDOperationResponse, DidOperationSubmission, DIDDocument, Service, DIDResolutionResult  \n",
    "from prism_agent_client.api.did_registrar import get_did_registrar_dids, get_did_registrar_dids_didref, post_did_registrar_dids, post_did_registrar_dids_didref_publications, post_did_registrar_dids_didref_updates, post_did_registrar_dids_didref_deactivations\n",
    "from prism_agent_client.api.did import get_did"
   ]
  },
  {
   "attachments": {},
   "cell_type": "markdown",
   "id": "9c84ed80-d983-4ea0-90be-e2791e17b9c4",
   "metadata": {},
   "source": [
    "### Utilitary functions"
   ]
  },
  {
   "cell_type": "code",
   "execution_count": null,
   "id": "c9da50fe-0a4a-4bf7-9f0d-74feacd12709",
   "metadata": {
    "tags": []
   },
   "outputs": [],
   "source": [
    "def print_did_operation_response(did_operation_response):\n",
    "    if hasattr(did_operation_response, \"scheduled_operation\"):\n",
    "        scheduled_operation = did_operation_response.scheduled_operation\n",
    "        if hasattr(scheduled_operation, \"id\"):\n",
    "            print(\"Scheduled operation ID:\", scheduled_operation.id)\n",
    "        if hasattr(scheduled_operation, \"did_ref\"):\n",
    "            print(\"Scheduled operation DID reference:\", scheduled_operation.did_ref)\n",
    "        if hasattr(scheduled_operation, \"additional_properties\"):\n",
    "            print(\"Scheduled operation additional properties:\", scheduled_operation.additional_properties)\n",
    "    if hasattr(did_operation_response, \"additional_properties\"):\n",
    "        print(\"DID operation response additional properties:\", did_operation_response.additional_properties)\n",
    "\n",
    "def print_list_managed_did_response_inner(list_managed_did_response_inner):\n",
    "    if hasattr(list_managed_did_response_inner, \"did\"):\n",
    "        print(\"DID:\", list_managed_did_response_inner.did)\n",
    "    if hasattr(list_managed_did_response_inner, \"status\"):\n",
    "        print(\"Status:\", list_managed_did_response_inner.status)\n",
    "    if hasattr(list_managed_did_response_inner, \"long_form_did\"):\n",
    "        print(\"Long form DID:\", list_managed_did_response_inner.long_form_did)\n",
    "    if hasattr(list_managed_did_response_inner, \"additional_properties\"):\n",
    "        print(\"Additional properties:\", list_managed_did_response_inner.additional_properties)\n",
    "\n",
    "def print_did_list(list_managed_did_response_inner_list):\n",
    "    for list in list_managed_did_response_inner_list:\n",
    "        print_list_managed_did_response_inner(list)\n",
    "        print()\n",
    "        \n",
    "def print_did_operation_response(did_operation_response):\n",
    "    if hasattr(did_operation_response, \"scheduled_operation\"):\n",
    "        print(\"Scheduled Operation:\")\n",
    "        print(\"  ID:\", did_operation_response.scheduled_operation.id)\n",
    "        print(\"  DID Reference:\", did_operation_response.scheduled_operation.did_ref)\n",
    "        if hasattr(did_operation_response.scheduled_operation, \"additional_properties\"):\n",
    "            print(\"  Additional Properties:\", did_operation_response.scheduled_operation.additional_properties)\n",
    "    if hasattr(did_operation_response, \"additional_properties\"):\n",
    "        print(\"Additional Properties:\", did_operation_response.additional_properties)\n",
    "        \n",
    "        \n",
    "def print_did_response(did_response):\n",
    "    #did = did_response.did\n",
    "    print(\"DID ID: \", did.id)\n",
    "    print(\"Controller: \", did.controller)\n",
    "    print(\"Verification Methods: \")\n",
    "    for ver_method in did.verification_method:\n",
    "        print(\"\\tID: \", ver_method.id)\n",
    "        print(\"\\tType: \", ver_method.type)\n",
    "        print(\"\\tController: \", ver_method.controller)\n",
    "        print(\"\\tPublic Key JWK: \", ver_method.public_key_jwk)\n",
    "    print(\"Authentication: \")\n",
    "    for auth in did.authentication:\n",
    "        print(\"\\t\", auth)\n",
    "    print(\"Assertion Method: \")\n",
    "    for assert_method in did.assertion_method:\n",
    "        print(\"\\t\", assert_method)\n",
    "    print(\"Key Agreement: \")\n",
    "    for key_agreement in did.key_agreement:\n",
    "        print(\"\\tType: \", key_agreement.type)\n",
    "        print(\"\\tURI: \", key_agreement.uri)\n",
    "    print(\"Capability Invocation: \")\n",
    "    for capability_invocation in did.capability_invocation:\n",
    "        print(\"\\t\", capability_invocation)\n",
    "    print(\"Capability Delegation: \")\n",
    "    for capability_delegation in did.capability_delegation:\n",
    "        print(\"\\t\", capability_delegation)\n",
    "    print(\"Services: \")\n",
    "    for service in did.service:\n",
    "        print(\"\\tID: \", service.id)\n",
    "        print(\"\\tType: \", service.type)\n",
    "        print(\"\\tService Endpoint: \", service.service_endpoint)\n",
    "\n",
    "troubleshooting_message = f'''\n",
    "🚨 An issue occurred while attempting to interact with the PRISM Agent 🚨\n",
    "\n",
    "- Check that the PRISM Agent you are trying to connect to is up and running, and that it is listening on the correct port. \n",
    "  You can try to connect to the Agent using a different tool to confirm that it is available. \n",
    "  (e.g. `curl --location '<host:port>/prism-agent/connections' --header 'apiKey: <key>'`) \n",
    "- Check if there are any network issues preventing the Notebook from connecting to the Agent. This can include firewalls, \n",
    "  proxies, and other network configurations.\n",
    "- Ensure that the Agent URL is correct, and that the correct API Keys are provided in the variables.env file.\n",
    "- If none of the above solutions work, check the logs of the Agent container to see if there are any more specific error \n",
    "  messages that can help diagnose the issue.'''\n",
    "\n",
    "def preflight(url, api_key):\n",
    "    try:\n",
    "        endpoint = f'{url}/connections'\n",
    "        headers = {'apiKey': api_key}\n",
    "        response = requests.get(endpoint, headers=headers, timeout=15)\n",
    "        if response.status_code == 200:\n",
    "            print(f\"URL ok: {url}\")\n",
    "        else:\n",
    "            raise Exception(f\"URL: {response.url} code: {response.status_code} content: {response.text}\")\n",
    "    except Exception as Ex:\n",
    "        raise Exception(f'{troubleshooting_message}\\n\\nURL: {url}\\nAPI Key: {api_key != \"\"}')"
   ]
  },
  {
   "attachments": {},
   "cell_type": "markdown",
   "id": "287c5b6b-3e42-4dac-9c0e-3c7511739ef5",
   "metadata": {},
   "source": [
    "### Client instances\n",
    "\n",
    "For this example we only need one Client.\n",
    "\n",
    "⚠️ Remember to update the file variables.env with the URLs and API keys provided to you.\n"
   ]
  },
  {
   "attachments": {},
   "cell_type": "markdown",
   "id": "19dede98-b15e-4542-80f7-23dc5a11ed80",
   "metadata": {
    "tags": []
   },
   "source": [
    "#### ⚠️ NOTE:\n",
    "If your host operating system is a nix-based OS that is not OSX or Windows please ensure you load the `../BetaProgram/variables_linux.env` environment variables.  \n",
    "To do this uncomment the following line in the cell below: `#load_dotenv(\"../BetaProgram/variables-linux.env\")`.  \n",
    "Otherwise you will encounter issues with errors such as `ConnectionRefusedError`, `ConnectError: [Errno <n>] Name or service not known`"
   ]
  },
  {
   "cell_type": "code",
   "execution_count": null,
   "id": "693969e4-e733-4864-ba4c-53c884c7ceb2",
   "metadata": {
    "tags": []
   },
   "outputs": [],
   "source": [
    "load_dotenv(\"../Playground/variables.env\")\n",
    "#load_dotenv(\"../Playground/variables-linux.env\")\n",
    "issuerApiKey = os.getenv('ISSUER_APIKEY')\n",
    "issuerUrl = os.getenv('ISSUER_URL')\n",
    "\n",
    "issuer_client         = Client(base_url=issuerUrl, headers={\"apiKey\": issuerApiKey})\n",
    "issuer_client_did_doc = Client(base_url=issuerUrl, headers={\"apiKey\": issuerApiKey, \"accept\":\"application/did+ld+json\"})\n",
    "\n",
    "%xmode Minimal\n",
    "\n",
    "preflight(issuerUrl, issuerApiKey)\n",
    "\n",
    "%xmode Verbose"
   ]
  },
  {
   "attachments": {},
   "cell_type": "markdown",
   "id": "94f26579-f0d5-420b-af20-82d1f4b9dd19",
   "metadata": {},
   "source": [
    "### Create unpublished DID\n",
    "\n",
    "The following code uses `create_managed_did` to create and store an unpublished DID inside PRISM Agent's DB. In this scenario, the PRISM Agent manages the keys of the DID. Once the DID is created, it can be published to the VDR using the publications endpoint.\n",
    "\n",
    "The possible values for key purposes are: `authentication`, `assertionMethod`, `keyAgreement`, `capabilityInvocation`, `capabilityDelegation`\n",
    "\n",
    "For services type, the only value allowed is: `LinkedDomains` "
   ]
  },
  {
   "cell_type": "code",
   "execution_count": null,
   "id": "b573dd39-4355-4594-9faf-ca5c3d781869",
   "metadata": {
    "tags": []
   },
   "outputs": [],
   "source": [
    "data = {\n",
    "  \"documentTemplate\": {\n",
    "    \"publicKeys\": [\n",
    "        {\n",
    "            \"id\": \"key1\",\n",
    "            \"purpose\": \"authentication\"\n",
    "        },\n",
    "        {\n",
    "            \"id\": \"key2\",\n",
    "            \"purpose\": \"assertionMethod\"\n",
    "        }\n",
    "    ],\n",
    "    \"services\": [\n",
    "        {\n",
    "            \"id\": \"did:prism:test1\",\n",
    "            \"type\": \"LinkedDomains\",\n",
    "            \"serviceEndpoint\": [\n",
    "                \"https://test1.com\"\n",
    "            ]\n",
    "        },\n",
    "        {\n",
    "            \"id\": \"did:prism:test2\",\n",
    "            \"type\": \"LinkedDomains\",\n",
    "            \"serviceEndpoint\": [\n",
    "                \"https://test2.com\"\n",
    "            ]\n",
    "        }\n",
    "    ]\n",
    "  }\n",
    "}\n",
    "\n",
    "did_request = CreateManagedDidRequest.from_dict(data)\n",
    "did: Response[CreateManagedDIDResponse] = post_did_registrar_dids.sync(client=issuer_client, json_body=did_request)\n",
    "\n",
    "print(did.long_form_did)"
   ]
  },
  {
   "attachments": {},
   "cell_type": "markdown",
   "id": "638692fc-d534-4992-87a8-bc2cae0f1143",
   "metadata": {},
   "source": [
    "### Publish DID \n",
    "The request `publish_managed_did` is used to Publish the DID into the VDR. It requires the DID identifier as input."
   ]
  },
  {
   "cell_type": "code",
   "execution_count": null,
   "id": "48731cb1-2997-4bd1-9042-6304960b60ae",
   "metadata": {
    "tags": []
   },
   "outputs": [],
   "source": [
    "\n",
    "operation_response : (DIDOperationResponse) = post_did_registrar_dids_didref_publications.sync(client=issuer_client, did_ref=did.long_form_did)\n",
    "print_did_operation_response(operation_response)"
   ]
  },
  {
   "attachments": {},
   "cell_type": "markdown",
   "id": "44c65ae6-278f-4907-a66a-6ea9e5279556",
   "metadata": {},
   "source": [
    "### DID Resolver\n",
    "\n",
    "To resolve a PRISM DID the request `get_did` is available. It requires the DID identifier as a parameter. \n",
    "\n",
    "It takes some time for the DID to be published, so we use a delay loop to wait until the publication is completed."
   ]
  },
  {
   "cell_type": "code",
   "execution_count": null,
   "id": "d276c9e0-9999-4d68-b1a6-f9eec5836135",
   "metadata": {
    "scrolled": true,
    "tags": []
   },
   "outputs": [],
   "source": [
    "print(\"Please wait...\")\n",
    "did = None\n",
    "\n",
    "while (did is None):\n",
    "    try:\n",
    "        did = get_did.sync(client=issuer_client_did_doc, did_ref=operation_response.scheduled_operation.did_ref)\n",
    "    except Exception as e:\n",
    "        print(\"Please wait...\")\n",
    "        time.sleep(10)\n",
    "\n",
    "print(did)\n",
    "print_did_response(did)"
   ]
  },
  {
   "attachments": {},
   "cell_type": "markdown",
   "id": "2e45fee1-6b95-40b2-9abe-13969d0288ab",
   "metadata": {
    "tags": []
   },
   "source": [
    "### DID Update\n",
    "\n",
    "To Update a DID, the PRISM Agent provides the `update_managed_did` endpoint. It updates the DID in PRISM Agent's DB and posts the update operation to the VDR. This endpoint updates the DID document from the last confirmed operation. Submitting multiple update operations without waiting for confirmation will result in some operations being rejected, as only one operation can be appended from the last confirmed operation.\n",
    "\n",
    "The values for `actionType` are `ADD_KEY`, `REMOVE_KEY`, `ADD_SERVICE`, `REMOVE_SERVICE`, `UPDATE_SERVICE`"
   ]
  },
  {
   "cell_type": "code",
   "execution_count": null,
   "id": "07986475-ef8b-40b0-bb8d-1212b1b72689",
   "metadata": {
    "tags": []
   },
   "outputs": [],
   "source": [
    "data = {\n",
    "    \"actions\": [\n",
    "        {\n",
    "            \"actionType\": \"ADD_KEY\",\n",
    "            \"addKey\": {\n",
    "                \"id\": \"key3\",\n",
    "                \"purpose\": \"authentication\"\n",
    "            }\n",
    "        },\n",
    "        {\n",
    "            \"actionType\": \"REMOVE_KEY\",\n",
    "            \"removeKey\": {\n",
    "                \"id\": \"key1\"\n",
    "            }\n",
    "        },\n",
    "        {\n",
    "            \"actionType\": \"REMOVE_SERVICE\",\n",
    "            \"removeService\": {\n",
    "                \"id\": \"did:prism:test1\"\n",
    "            }\n",
    "        },\n",
    "        {\n",
    "            \"actionType\": \"ADD_SERVICE\",\n",
    "            \"addService\": {\n",
    "                \"id\": \"did:prism:test3added\",\n",
    "                \"type\": \"LinkedDomains\",\n",
    "                \"serviceEndpoint\": [\n",
    "                    \"https://bar.example.com\"\n",
    "                ]\n",
    "            }\n",
    "        },\n",
    "        {\n",
    "            \"actionType\": \"UPDATE_SERVICE\",\n",
    "            \"updateService\": {\n",
    "                \"id\": \"did:prism:test2\",\n",
    "                \"type\": \"LinkedDomains\",\n",
    "                \"serviceEndpoint\": [\n",
    "                    \"https://test2.updated.com\"\n",
    "                ]\n",
    "            }\n",
    "        }\n",
    "    ]\n",
    "}\n",
    "\n",
    "did_update_request = UpdateManagedDIDRequest.from_dict(data)\n",
    "\n",
    "update_response : [DIDOperationResponse] = post_did_registrar_dids_didref_updates.sync(client=issuer_client, \n",
    "                                                                   did_ref=operation_response.scheduled_operation.did_ref, \n",
    "                                                                   json_body=did_update_request)\n",
    "\n",
    "print_did_operation_response(update_response)"
   ]
  },
  {
   "attachments": {},
   "cell_type": "markdown",
   "id": "682bb640-9219-4bf9-ac56-8a5b2751f725",
   "metadata": {},
   "source": [
    "**🚨Wait for a few minutes until the DID is updated and run the code below**"
   ]
  },
  {
   "cell_type": "code",
   "execution_count": null,
   "id": "cfd3d6b2-3d25-43f7-9643-113458c044d4",
   "metadata": {
    "tags": []
   },
   "outputs": [],
   "source": [
    "did = get_did.sync(client=issuer_client_did_doc, did_ref=operation_response.scheduled_operation.did_ref)\n",
    "    \n",
    "print_did_response(did)"
   ]
  },
  {
   "attachments": {},
   "cell_type": "markdown",
   "id": "a102510d-e68b-4a1d-b923-41a0bb672d29",
   "metadata": {},
   "source": [
    "### DID Deactivation\n",
    "\n",
    "To deactivate DID and post deactivate operation to blockchain use `deactivate_managed_did`."
   ]
  },
  {
   "cell_type": "code",
   "execution_count": null,
   "id": "7c0a63c0-da90-4574-af6b-8318021a355c",
   "metadata": {
    "tags": []
   },
   "outputs": [],
   "source": [
    "deactivation_response = None\n",
    "while (operation_response is None):\n",
    "    try: \n",
    "        deactivation_response: [DIDOperationResponse] = post_did_registrar_dids_didref_deactivations.sync(client=issuer_client, did_ref=operation_response.scheduled_operation.did_ref)\n",
    "        print_did_operation_response(operation_response) \n",
    "    except Exception as e:\n",
    "        print(\"Please wait...\")\n",
    "        time.sleep(10)"
   ]
  },
  {
   "attachments": {},
   "cell_type": "markdown",
   "id": "4024a69d-98f4-44c6-ba05-17f1ffd3ac6b",
   "metadata": {},
   "source": [
    "**🚨Wait for a few minutes until the DID is deactivated. And run the code below**O'"
   ]
  },
  {
   "cell_type": "code",
   "execution_count": null,
   "id": "f9f2e315-7974-4096-a2ca-6c05c81d16be",
   "metadata": {
    "scrolled": true,
    "tags": []
   },
   "outputs": [],
   "source": [
    "#did = get_did.sync(client=issuer_client_did_doc, did_ref=operation_response.scheduled_operation.did_ref)\n",
    "#print_did_response(did)\n",
    "print(\"ℹ️ We have identified an issue with the get_did function in this example. Until we fix the problem, run the following curl command in a terminal and check the DID has the attribute `deactivated: true`\\n\")\n",
    "print(f\"curl --location 'localhost:8080/prism-agent/dids/{operation_response.scheduled_operation.did_ref}' --header 'Accept: application/ld+json; profile=https://w3id.org/did-resolution' --header 'apikey: {issuerApiKey}'\")"
   ]
  },
  {
   "attachments": {},
   "cell_type": "markdown",
   "id": "5d109a7c-8d6b-431c-9b39-c156b75f9eb2",
   "metadata": {
    "tags": []
   },
   "source": [
    "### List DIDs\n",
    "\n",
    "To List all DIDs stored in the PRISM Agent DB use `list_managed_did`."
   ]
  },
  {
   "cell_type": "code",
   "execution_count": null,
   "id": "c7d8eb6a-f820-448f-bac7-4685856c4e87",
   "metadata": {
    "tags": []
   },
   "outputs": [],
   "source": [
    "did_list = get_did_registrar_dids.sync(client=issuer_client)\n",
    "print_did_list(did_list.contents[:3])"
   ]
  },
  {
   "cell_type": "code",
   "execution_count": null,
   "id": "1bc427be-38eb-4b73-931d-60d1a3cec673",
   "metadata": {},
   "outputs": [],
   "source": []
  }
 ],
 "metadata": {
  "kernelspec": {
   "display_name": "Python 3 (ipykernel)",
   "language": "python",
   "name": "python3"
  },
  "language_info": {
   "codemirror_mode": {
    "name": "ipython",
    "version": 3
   },
   "file_extension": ".py",
   "mimetype": "text/x-python",
   "name": "python",
   "nbconvert_exporter": "python",
   "pygments_lexer": "ipython3",
   "version": "3.11.4"
  },
  "vscode": {
   "interpreter": {
    "hash": "916dbcbb3f70747c44a77c7bcd40155683ae19c65e1c03b4aa3499c5328201f1"
   }
  }
 },
 "nbformat": 4,
 "nbformat_minor": 5
}
