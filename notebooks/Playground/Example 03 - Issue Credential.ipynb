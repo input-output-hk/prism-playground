{
 "cells": [
  {
   "cell_type": "markdown",
   "id": "0c87c711-0271-485b-b1dd-9ceb6b38a3b7",
   "metadata": {},
   "source": [
    "## Issue Credential\n",
    "\n",
    "Issuing a credential involves establishing a connection between the issuer and the holder, which is done by following the process outlined in `Example 01 - Connections`. Once the connection is established, the issuer will prepare and send a credential offer, which creates an issue record on both the issuer's and holder's agents. The holder will then retrieve the list of issue records, find the one they wish to accept, and notify the issuer of their acceptance. Finally, the issuer will issue the credential to the holder, completing the process.\n",
    "\n",
    "This example presents the steps required to issue a credential using Atala PRISM Agents."
   ]
  },
  {
   "cell_type": "code",
   "execution_count": null,
   "id": "0b784096-9df8-490f-a4be-d247467ae58e",
   "metadata": {
    "tags": []
   },
   "outputs": [],
   "source": [
    "#🚨 Run this code cell to import requirements in the Kernel\n",
    "\n",
    "import os\n",
    "import time\n",
    "import datetime\n",
    "import base64\n",
    "import json\n",
    "import jwt\n",
    "import re\n",
    "import requests\n",
    "from pprint import pprint\n",
    "from dotenv import load_dotenv\n",
    "from termcolor import colored,cprint\n",
    "\n",
    "from prism_agent_client import Client\n",
    "from prism_agent_client.types import Response\n",
    "from prism_agent_client.models import ErrorResponse\n",
    "from prism_agent_client.models import Connection, ConnectionInvitation, CreateConnectionRequest, AcceptConnectionInvitationRequest, AcceptCredentialOfferRequest\n",
    "from prism_agent_client.models import IssueCredentialRecord, CreateIssueCredentialRecordRequest, IssueCredentialRecordPage\n",
    "from prism_agent_client.models import CreateManagedDidRequest, CreateManagedDIDResponse\n",
    "from prism_agent_client.models import DIDOperationResponse, Service   \n",
    "\n",
    "from prism_agent_client.api.connections_management import get_connection,create_connection,accept_connection_invitation\n",
    "from prism_agent_client.api.issue_credentials_protocol import get_credential_record, get_credential_records, create_credential_offer,accept_credential_offer,issue_credential\n",
    "from prism_agent_client.api.did_registrar import get_did_registrar_dids, post_did_registrar_dids, post_did_registrar_dids_didref_publications\n",
    "from prism_agent_client.api.did import get_did"
   ]
  },
  {
   "cell_type": "markdown",
   "id": "27d5b99e-b917-4845-9811-ee2b56ab39eb",
   "metadata": {},
   "source": [
    "### Ultilitary functions"
   ]
  },
  {
   "cell_type": "code",
   "execution_count": null,
   "id": "256622d6-ec9c-4189-ade3-5f9a773f3a45",
   "metadata": {
    "tags": []
   },
   "outputs": [],
   "source": [
    "def get_invitation_str(connection):\n",
    "    parts = connection.invitation.invitation_url.split(\"=\")\n",
    "    return parts[1]\n",
    "\n",
    "def find_credential_record_by_state(client, state):\n",
    "    credential_records: Response[IssueCredentialRecordPage] = get_credential_records.sync(client=client)\n",
    "\n",
    "    for offer in credential_records.contents:\n",
    "        if(offer.protocol_state == state):\n",
    "            return offer\n",
    "    return None \n",
    "\n",
    "def to_canonical_did(long_form):\n",
    "    pattern = r\"did:prism:[a-fA-F0-9]{64}\"\n",
    "    match = re.search(pattern, long_form)\n",
    "    \n",
    "    if match:\n",
    "        return match.group()\n",
    "    else:\n",
    "        return None\n",
    "\n",
    "def print_credential_record(credential_record):\n",
    "    print(f\"record_id:          {credential_record.record_id}\")\n",
    "    print(f\"subject_id:         {credential_record.subject_id}\")\n",
    "    print(f\"role:               {credential_record.role}\")\n",
    "    print(f\"protocol_state:     {credential_record.protocol_state}\")\n",
    "    print(f\"created_at:         {credential_record.created_at}\")\n",
    "    print(f\"updated_at:         {credential_record.updated_at}\")\n",
    "    \n",
    "def print_connection(connection):\n",
    "    print(f\"connection_id: {connection.connection_id}\")\n",
    "    print(f\"state:         {connection.state}\")\n",
    "    print(f\"label:         {connection.label}\")\n",
    "    print(f\"my_did:        {connection.my_did}\")\n",
    "    print(f\"their_did:     {connection.their_did}\")\n",
    "    print(f\"created_at:    {connection.created_at}\")\n",
    "    \n",
    "troubleshooting_message = f'''\n",
    "🚨 An issue occurred while attempting to interact with the PRISM Agent 🚨\n",
    "\n",
    "- Check that the PRISM Agent you are trying to connect to is up and running, and that it is listening on the correct port. \n",
    "  You can try to connect to the Agent using a different tool to confirm that it is available. \n",
    "  (e.g. `curl --location '<host:port>/prism-agent/connections' --header 'apiKey: <key>'`) \n",
    "- Check if there are any network issues preventing the Notebook from connecting to the Agent. This can include firewalls, \n",
    "  proxies, and other network configurations.\n",
    "- Ensure that the Agent URL is correct, and that the correct API Keys are provided in the variables.env file.\n",
    "- If none of the above solutions work, check the logs of the Agent container to see if there are any more specific error \n",
    "  messages that can help diagnose the issue.'''\n",
    "\n",
    "def preflight(url, api_key):\n",
    "    try:\n",
    "        endpoint = f'{url}/connections'\n",
    "        headers = {'apiKey': api_key}\n",
    "        response = requests.get(endpoint, headers=headers, timeout=15)\n",
    "        if response.status_code == 200:\n",
    "            print(f\"URL ok: {url}\")\n",
    "        else:\n",
    "            raise Exception(f\"URL: {response.url} code: {response.status_code} content: {response.text}\")\n",
    "    except Exception as Ex:\n",
    "        raise Exception(f'{troubleshooting_message}\\n\\nURL: {url}\\nAPI Key: {api_key != \"\"}')"
   ]
  },
  {
   "cell_type": "markdown",
   "id": "bb8dc963-b0ef-4666-adb9-24abac2ae625",
   "metadata": {},
   "source": [
    "### Client instances\n",
    "\n",
    "We will create two clients, one for the Issuer and one for the Holder, to establish a connection and perform the issue credential process.\n",
    "\n",
    "⚠️ Remember to update the file variables.env with the URLs and API keys provided to you.\n"
   ]
  },
  {
   "cell_type": "markdown",
   "id": "fecbcac8-14b1-42de-a908-586fbae0e7a7",
   "metadata": {
    "tags": []
   },
   "source": [
    "#### ⚠️ NOTE:\n",
    "If your host operating system is a nix-based OS that is not OSX or Windows please ensure you load the `../BetaProgram/variables_linux.env` environment variables.  \n",
    "To do this uncomment the following line in the cell below: `#load_dotenv(\"../BetaProgram/variables-linux.env\")`.  \n",
    "Otherwise you will encounter issues with errors such as `ConnectionRefusedError`, `ConnectError: [Errno <n>] Name or service not known`"
   ]
  },
  {
   "cell_type": "code",
   "execution_count": null,
   "id": "767fd10e-4ae7-4b17-b932-ac2e8f5d6219",
   "metadata": {
    "tags": []
   },
   "outputs": [],
   "source": [
    "load_dotenv(\"../Playground/variables.env\")\n",
    "#load_dotenv(\"../Playground/variables-linux.env\")\n",
    "issuerApiKey = os.getenv('ISSUER_APIKEY')\n",
    "issuerUrl = os.getenv('ISSUER_URL')\n",
    "\n",
    "holderApiKey = os.getenv('HOLDER_APIKEY')\n",
    "holderUrl = os.getenv('HOLDER_URL')\n",
    "\n",
    "issuer_client = Client(base_url=issuerUrl, headers={\"apiKey\": issuerApiKey})\n",
    "issuer_client_did_doc = Client(base_url=issuerUrl, headers={\"apiKey\": issuerApiKey, \"accept\":\"application/did+ld+json\"})\n",
    "holder_client = Client(base_url=holderUrl, headers={\"apiKey\": holderApiKey})\n",
    "holder_client_did_doc = Client(base_url=holderUrl, headers={\"apiKey\": holderApiKey, \"accept\":\"application/did+ld+json\"})\n",
    "\n",
    "%xmode Minimal\n",
    "\n",
    "preflight(issuerUrl, issuerApiKey)\n",
    "preflight(holderUrl, holderApiKey)\n",
    "\n",
    "%xmode Verbose"
   ]
  },
  {
   "cell_type": "markdown",
   "id": "66210c60-88b1-438c-aa79-01a5304582a9",
   "metadata": {
    "tags": []
   },
   "source": [
    "### Create connection\n",
    "\n",
    "ℹ️ For details on this see \"Example 01 - Connections\""
   ]
  },
  {
   "cell_type": "code",
   "execution_count": null,
   "id": "2cba1313-d47f-4c21-bc7d-acd43f6fa2d6",
   "metadata": {
    "tags": []
   },
   "outputs": [],
   "source": [
    "print(\"Please wait...\")\n",
    "\n",
    "conn_request = CreateConnectionRequest()\n",
    "conn_request.label = f'Issue credential {datetime.datetime.now().strftime(\"%Y-%m-%d %H:%M:%S\")}'\n",
    "issuer_connection: Response[Connection] =  create_connection.sync(client=issuer_client,json_body=conn_request)\n",
    "\n",
    "invitation = get_invitation_str(issuer_connection)\n",
    "\n",
    "accept_conn_request = AcceptConnectionInvitationRequest(invitation)\n",
    "holder_connection: Response[ConnectionInvitation] =  accept_connection_invitation.sync(client=holder_client,json_body=accept_conn_request)\n",
    "\n",
    "\n",
    "issuer_connection: Response[Connection] = get_connection.sync(client=issuer_client,connection_id=issuer_connection.connection_id)\n",
    "holder_connection: Response[Connection] = get_connection.sync(client=holder_client,connection_id=holder_connection.connection_id)\n",
    "\n",
    "print(f\"Issuer connection: {issuer_connection.connection_id}\")\n",
    "print(f\"Holder connection: {holder_connection.connection_id}\\n\")\n",
    "\n",
    "while (issuer_connection.state != 'ConnectionResponseSent' or \n",
    "       not(holder_connection.state == 'ConnectionResponseReceived' or holder_connection.state == 'ConnectionRequestSent')):\n",
    "    issuer_connection: Response[Connection] = get_connection.sync(client=issuer_client,connection_id=issuer_connection.connection_id)\n",
    "    holder_connection: Response[Connection] = get_connection.sync(client=holder_client,connection_id=holder_connection.connection_id)\n",
    "    print(\"Issuer State: {} / Holder State: {}\".format(issuer_connection.state,holder_connection.state))\n",
    "    time.sleep(1)\n",
    "    \n",
    "print(\"Connection established between Issuer and Holder!\")\n",
    "print(\"\\nIssuer connection:\\n\")\n",
    "print_connection(issuer_connection)\n",
    "print(\"\\nHolder connection:\\n\")\n",
    "print_connection(holder_connection)"
   ]
  },
  {
   "cell_type": "markdown",
   "id": "fbb8de82-517c-4aa6-9d0f-506321a719a9",
   "metadata": {},
   "source": [
    "### Holder - Create an unpublished did:prism \n",
    "\n",
    "To issue a verifiable credential, the Holder must provide the credential subject to the Issuer. The credential subject is a DID identifier. We will use a long-form `did:prism` in this example. So the next step is to create an unpublished `did` on the Holder side. It is required to have a key with `purpose` equal to `assertionMethod` in the DID Document template.\n",
    "\n",
    "ℹ️ For details on creating an unpublished `did` see \"Example 02 - DID Registrar\""
   ]
  },
  {
   "cell_type": "code",
   "execution_count": null,
   "id": "f541a08b-cbd1-4931-99e3-6068a6cbbe9f",
   "metadata": {
    "tags": []
   },
   "outputs": [],
   "source": [
    "data = { \n",
    "    \"documentTemplate\": {\n",
    "        \"publicKeys\": [\n",
    "            {\n",
    "                \"id\": \"key1\",\n",
    "                \"purpose\": \"authentication\"\n",
    "            },\n",
    "            {\n",
    "                \"id\": \"key2\",\n",
    "                \"purpose\": \"assertionMethod\"\n",
    "            }\n",
    "        ]\n",
    "    }\n",
    "}\n",
    "\n",
    "did_request = CreateManagedDidRequest.from_dict(data)\n",
    "subject_did: Response[CreateManagedDIDResponse] = post_did_registrar_dids.sync(client=holder_client, json_body=did_request)\n",
    "\n",
    "print(f\"Subject did (credential subject): {subject_did.long_form_did}\")"
   ]
  },
  {
   "cell_type": "markdown",
   "id": "ac37a03f-e3c6-420a-bfd2-15953350f68f",
   "metadata": {},
   "source": [
    "### Issuer - Create and publish a did:prism \n",
    "\n",
    "To issue a verifiable credential, the Issuer must provide the issuing DID. The issuing DID is a DID identifier. We will use a canonical-form `did:prism` in this example. So the next step is to create and publish a `did` on the Issuer side. It is required to have a key with `purpose` equal to `assertionMethod` in the DID Document template.\n",
    "\n",
    "ℹ️ For details on creating and publishing a `did` see \"Example 02 - DID Registrar\""
   ]
  },
  {
   "cell_type": "code",
   "execution_count": null,
   "id": "09866117-652a-4e5c-a191-25ac673f616d",
   "metadata": {
    "tags": []
   },
   "outputs": [],
   "source": [
    "# Reusing the same did documentTemplate\n",
    "issuing_did: Response[CreateManagedDIDResponse] = post_did_registrar_dids.sync(client=issuer_client, json_body=did_request)\n",
    "\n",
    "print(f\"Issuing did: {issuing_did.long_form_did}\")\n",
    "\n",
    "operation_response : (DIDOperationResponse) = post_did_registrar_dids_didref_publications.sync(client=issuer_client, did_ref=issuing_did.long_form_did)\n",
    "\n",
    "print(\"Please wait...\")\n",
    "\n",
    "issuing_did = None\n",
    "\n",
    "while (issuing_did is None):\n",
    "    try:\n",
    "        issuing_did = get_did.sync(client=issuer_client_did_doc, did_ref=operation_response.scheduled_operation.did_ref)\n",
    "    except Exception as e:\n",
    "        print(\"Please wait...\")\n",
    "        time.sleep(10)\n",
    "    \n",
    "print(f\"Issuing did published: {issuing_did.id}\")\n"
   ]
  },
  {
   "cell_type": "markdown",
   "id": "fed2a112-4160-4de0-9673-ffbf37d1bf06",
   "metadata": {},
   "source": [
    "### Issuer - Create credential claim\n",
    "\n",
    "Now that we have the DIDs ready, the next step is for the Issuer to create the credential claim object. The credential claim contains the attributes that will be part of the verifiable credential."
   ]
  },
  {
   "cell_type": "code",
   "execution_count": null,
   "id": "8fd78b3e-ebd7-466b-a71d-158b7f310d82",
   "metadata": {
    "tags": []
   },
   "outputs": [],
   "source": [
    "credential_claims = {\n",
    "        \"firstname\": 'James',\n",
    "        \"lastname\": 'Smith',\n",
    "        \"birthdate\": '01/01/2000'\n",
    "      }\n",
    "\n",
    "#credential_claims = IssueCredentialRecordClaims().from_dict(data)"
   ]
  },
  {
   "cell_type": "markdown",
   "id": "a51d2dd2-8355-4193-9900-cf8cd8eea715",
   "metadata": {},
   "source": [
    "### Issuer - Send credential offer\n",
    "\n",
    "Following, the Issuer creates a `CreateIssueCredentialRecordRequest`. It contains the `subject_id`, the `claims` and other metadata. This object is passed to the `create_credential_offer` endpoint.\n",
    "The `create_credential_offer` call creates an `IssueCredentialRecord` on the issuer side, it also sends the credential offer to the Holder."
   ]
  },
  {
   "cell_type": "code",
   "execution_count": null,
   "id": "28f46366-c57b-4787-b26b-8ae21926c069",
   "metadata": {
    "tags": []
   },
   "outputs": [],
   "source": [
    "credential_offer = CreateIssueCredentialRecordRequest(issuing_did=issuing_did.id,\n",
    "                                                      claims=credential_claims, \n",
    "                                                      connection_id=issuer_connection.connection_id,\n",
    "                                                      validity_period=3600, \n",
    "                                                      automatic_issuance=False)\n",
    "\n",
    "issuer_credential_record: Response[IssueCredentialRecord] = create_credential_offer.sync(client=issuer_client,json_body=credential_offer)\n",
    "\n",
    "print(\"\\nIssuer credential record:\\n\")\n",
    "print_credential_record(issuer_credential_record)"
   ]
  },
  {
   "cell_type": "markdown",
   "id": "77a8f829-74ea-4f98-8d6c-90a40433a0e4",
   "metadata": {},
   "source": [
    "### Holder - Wait for credential offer\n",
    "\n",
    "The Holder waits to receive the credential offer. When received, it will show up in the Holder's credential records list as a new entry with `protocol_state` equal to `OfferReceived`. The code below waits until a credential offer is received and takes the corresponding credential_record."
   ]
  },
  {
   "cell_type": "code",
   "execution_count": null,
   "id": "90d092f0-87fa-45da-b34f-081af9152a72",
   "metadata": {
    "tags": []
   },
   "outputs": [],
   "source": [
    "holder_credential_record = find_credential_record_by_state(holder_client, \"OfferReceived\")\n",
    "\n",
    "while(holder_credential_record == None):\n",
    "    holder_credential_record = find_credential_record_by_state(holder_client, \"OfferReceived\")\n",
    "    time.sleep(1)\n",
    "    \n",
    "print(\"\\nHolder credential record:\\n\")\n",
    "print_credential_record(holder_credential_record)"
   ]
  },
  {
   "cell_type": "markdown",
   "id": "c49cf031-2806-4f47-b9aa-4efc11f99342",
   "metadata": {
    "tags": []
   },
   "source": [
    "### Holder - Accept credential offer\n",
    "\n",
    "Now the Holder uses the `accept_credential_offer` endpoint to accept the credential offer. It must provide the `record_id` of the offer. Accepting the credential offer tells the Issuer that the credential can be issued."
   ]
  },
  {
   "cell_type": "code",
   "execution_count": null,
   "id": "8a0a2b49-1ea4-4f41-9c87-b21ceb78bf34",
   "metadata": {
    "tags": []
   },
   "outputs": [],
   "source": [
    "accept_credential = AcceptCredentialOfferRequest(subject_id=to_canonical_did(subject_did.long_form_did))\n",
    "\n",
    "holder_credential_record: Response[IssueCredentialRecord] = accept_credential_offer.sync(client=holder_client, record_id=holder_credential_record.record_id, json_body=accept_credential)\n",
    "print(\"\\nHolder credential record:\\n\")\n",
    "print_credential_record(holder_credential_record)"
   ]
  },
  {
   "cell_type": "markdown",
   "id": "b22ba226-c5d9-4590-a270-59a600a2115a",
   "metadata": {},
   "source": [
    "### Issuer - Wait for credential request\n",
    "\n",
    "The Issuer waits to receive the credential request. When received, the credential record state will change to `RequestReceived` in the Issuer's credential records list. The code below waits until a credential request is received and takes the corresponding credential_record."
   ]
  },
  {
   "cell_type": "code",
   "execution_count": null,
   "id": "dcd1c6d2-6418-4b12-bb87-4dec88a12001",
   "metadata": {
    "tags": []
   },
   "outputs": [],
   "source": [
    "print(\"Please wait...\")\n",
    "\n",
    "issuer_credential_record = get_credential_record.sync(client=issuer_client, record_id=issuer_credential_record.record_id)\n",
    "\n",
    "print(f\"Issuer credential record: {issuer_credential_record.record_id}\")\n",
    "print(f\"Holder credential record: {holder_credential_record.record_id}\\n\")\n",
    "\n",
    "while(issuer_credential_record.protocol_state != \"RequestReceived\"):\n",
    "    issuer_credential_record = get_credential_record.sync(client=issuer_client, record_id=issuer_credential_record.record_id)\n",
    "    holder_credential_record = get_credential_record.sync(client=holder_client, record_id=holder_credential_record.record_id)\n",
    "    print(f\"Issuer state: {issuer_credential_record.protocol_state} / Holder State: {holder_credential_record.protocol_state}\")\n",
    "    time.sleep(1)\n",
    "    \n",
    "print(\"\\nIssuer credential record:\\n\")\n",
    "print_credential_record(issuer_credential_record)"
   ]
  },
  {
   "cell_type": "markdown",
   "id": "208ac467-e00a-4376-93b1-f6843c4fe10f",
   "metadata": {},
   "source": [
    "### Issuer - Accept credential request (issue credential to holder)\n",
    "\n",
    "The Issuer uses the `issue_credential` endpoint to issue the credential. It must provide the `record_id`. When issued the record state changes to `CredentialSent` and the credential is send to the Holder."
   ]
  },
  {
   "cell_type": "code",
   "execution_count": null,
   "id": "0374cd2a-5094-44f3-ba65-2254015b34ad",
   "metadata": {
    "tags": []
   },
   "outputs": [],
   "source": [
    "issuer_credential_record: Response[IssueCredentialRecord] = issue_credential.sync(client=issuer_client, record_id=issuer_credential_record.record_id)\n",
    "print(\"\\nIssuer credential record:\\n\")\n",
    "print_credential_record(issuer_credential_record)"
   ]
  },
  {
   "cell_type": "markdown",
   "id": "6658741d-b1b3-4bae-9226-50295235d3d9",
   "metadata": {},
   "source": [
    "### Holder - Wait for credential\n",
    "\n",
    "The Holder waits to receive the credential. When received, it will be added to the Holder's credential record and the `protocol_state` will be updated to `CredentialReceived`. The code below waits until a credential is received."
   ]
  },
  {
   "cell_type": "code",
   "execution_count": null,
   "id": "42baaa79-ca85-4b32-a28b-b4723a4a92ed",
   "metadata": {
    "tags": []
   },
   "outputs": [],
   "source": [
    "print(\"Please wait...\")\n",
    "\n",
    "holder_credential_record = get_credential_record.sync(client=holder_client, record_id=holder_credential_record.record_id)\n",
    "\n",
    "print(f\"Issuer credential record: {issuer_credential_record.record_id}\")\n",
    "print(f\"Holder credential record: {holder_credential_record.record_id}\\n\")\n",
    "\n",
    "while(holder_credential_record.protocol_state != \"CredentialReceived\"):\n",
    "    issuer_credential_record = get_credential_record.sync(client=issuer_client, record_id=issuer_credential_record.record_id)\n",
    "    holder_credential_record = get_credential_record.sync(client=holder_client, record_id=holder_credential_record.record_id)\n",
    "    print(f\"Issuer state: {issuer_credential_record.protocol_state} / Holder State: {holder_credential_record.protocol_state}\")\n",
    "    time.sleep(1)\n",
    "\n",
    "print(\"\\nHolder credential record:\\n\")\n",
    "print_credential_record(holder_credential_record)"
   ]
  },
  {
   "cell_type": "markdown",
   "id": "7495a570-d40d-4b1d-83d8-f3b6a435ff93",
   "metadata": {},
   "source": [
    "### JWT Credential\n",
    "\n",
    "The JWT Credential is available in the holder credential record. The website https://jwt.io/ can be used to decode the credential."
   ]
  },
  {
   "cell_type": "code",
   "execution_count": null,
   "id": "bb23fcd1-43bb-4195-9785-505e24de50be",
   "metadata": {
    "tags": []
   },
   "outputs": [],
   "source": [
    "print(base64.b64decode(holder_credential_record.jwt_credential).decode())"
   ]
  },
  {
   "cell_type": "markdown",
   "id": "dc938d9c-9e87-4072-83f3-8131c4d1b281",
   "metadata": {},
   "source": [
    "### ⚠️ Important Note\n",
    "Keep the Holder credential record identifier at hand, it will be needed to run the next example:"
   ]
  },
  {
   "cell_type": "code",
   "execution_count": null,
   "id": "82b44917-6b59-4d39-b701-2a189a95a693",
   "metadata": {
    "tags": []
   },
   "outputs": [],
   "source": [
    "print(f\"\\nHolder credential record_id: {holder_credential_record.record_id}\\n\")\n",
    "%store holder_credential_record"
   ]
  },
  {
   "cell_type": "markdown",
   "id": "4c5939f1-feba-43f8-9874-28b3ee7d8666",
   "metadata": {},
   "source": [
    "### Decode verifiable credential\n",
    "\n",
    "As an alternative to the website https://jwt.io/ below you will find the code to perform the verifiable credential decoding programmatically:"
   ]
  },
  {
   "cell_type": "markdown",
   "id": "e2612f33-b5be-4b50-9b90-941490020a63",
   "metadata": {},
   "source": [
    "#### Unverified Decoding"
   ]
  },
  {
   "cell_type": "code",
   "execution_count": null,
   "id": "05945921-ce55-4bb7-86cb-39382272e576",
   "metadata": {
    "tags": []
   },
   "outputs": [],
   "source": [
    "try:\n",
    "    jwt_decoded_id_token = jwt.decode(base64.b64decode(holder_credential_record.jwt_credential).decode(), options={\"verify_signature\": False})\n",
    "    # print(jwt_decoded_id_token)\n",
    "    print(json.dumps(jwt_decoded_id_token, indent=2))\n",
    "except (jwt.ExpiredSignatureError, jwt.InvalidAudienceError) as e:\n",
    "    print(\"[ERROR]\", e)"
   ]
  },
  {
   "cell_type": "markdown",
   "id": "7ec83fb6-2659-4aa6-8fad-0111ecd09597",
   "metadata": {},
   "source": [
    "#### Verified Decoding"
   ]
  },
  {
   "cell_type": "markdown",
   "id": "a3470cdb-b0e9-4314-bede-c8f872ecc2dd",
   "metadata": {},
   "source": [
    "##### Resolve Issuer DID"
   ]
  },
  {
   "cell_type": "code",
   "execution_count": null,
   "id": "2b1f0512-81ba-438a-99a4-3c8c07d312e3",
   "metadata": {
    "tags": []
   },
   "outputs": [],
   "source": [
    "did = None\n",
    "while (did is None):\n",
    "    try:\n",
    "        did = get_did.sync(client=holder_client_did_doc, did_ref=jwt_decoded_id_token['iss'])\n",
    "    except Exception as e:\n",
    "        print(\"Please wait...\")\n",
    "        time.sleep(10)\n",
    "\n",
    "print(did.to_dict())"
   ]
  },
  {
   "cell_type": "markdown",
   "id": "c49a3738-8e60-4ffc-9f1d-85a5659de176",
   "metadata": {},
   "source": [
    "##### Extract assertion public JWK"
   ]
  },
  {
   "cell_type": "code",
   "execution_count": null,
   "id": "5c686ad8-ef46-4f23-928e-d034901b10c9",
   "metadata": {
    "tags": []
   },
   "outputs": [],
   "source": [
    "for verification_method in did.verification_method:\n",
    "    if verification_method.id == did.assertion_method[0]:\n",
    "        print('Issuer KeyId\\n',verification_method.id)\n",
    "        print('Issuer KeyId JWK\\n',verification_method.public_key_jwk)\n",
    "        issuer_jwk = verification_method.public_key_jwk\n",
    "\n",
    "issuer_pubKey = jwt.algorithms.ECAlgorithm.from_jwk(json.dumps(issuer_jwk.to_dict()))"
   ]
  },
  {
   "cell_type": "markdown",
   "id": "db3acf2c-a28f-4e6a-895c-8798ccecf55f",
   "metadata": {},
   "source": [
    "##### Verify Verifiable Credential against resolved Issuer DID and associated authentication public JWK"
   ]
  },
  {
   "cell_type": "code",
   "execution_count": null,
   "id": "76515b88-4fba-46c5-8594-edd683cf086d",
   "metadata": {
    "tags": []
   },
   "outputs": [],
   "source": [
    "try:\n",
    "    jwt_verified_decoded_id_token = jwt.decode(base64.b64decode(holder_credential_record.jwt_credential).decode(), key = issuer_pubKey, algorithms=[\"ES256K\"])\n",
    "    # print(jwt_decoded_id_token)\n",
    "    print(json.dumps(jwt_verified_decoded_id_token, indent=2))\n",
    "    print(\"JWT Signature Verification Successful!\")\n",
    "except (jwt.ExpiredSignatureError, jwt.InvalidAudienceError) as e:\n",
    "    print(\"[ERROR]\", e)"
   ]
  },
  {
   "cell_type": "markdown",
   "id": "e8d9360d-869a-4b48-98b0-6a5f9534a592",
   "metadata": {},
   "source": [
    "##### Verify verifiable credential (with modification) against resolved Issuer DID and associated authentication public JWK\n",
    "> NOTE!! This should fail as we tampered with the verifiable credential"
   ]
  },
  {
   "cell_type": "code",
   "execution_count": null,
   "id": "22fccac5-804d-425e-92e4-2656f603dabf",
   "metadata": {
    "tags": []
   },
   "outputs": [],
   "source": [
    "jwt_tampered_id_token = base64.b64decode(holder_credential_record.jwt_credential).decode() + 'x'\n",
    "\n",
    "try:\n",
    "    jwt_tampered_decoded_id_token = jwt.decode(jwt_tampered_id_token, key = issuer_pubKey, algorithms=[\"ES256K\"])\n",
    "    # print(jwt_decoded_id_token)\n",
    "    # print(json.dumps(jwt_tampered_decoded_id_token, indent=2))\n",
    "except (jwt.ExpiredSignatureError, jwt.InvalidAudienceError, jwt.InvalidSignatureError) as e:\n",
    "    print(\"[ERROR]\", e)"
   ]
  },
  {
   "cell_type": "code",
   "execution_count": null,
   "id": "73221414-e55c-4b91-b2fe-afe71808bf90",
   "metadata": {},
   "outputs": [],
   "source": []
  }
 ],
 "metadata": {
  "kernelspec": {
   "display_name": "Python 3 (ipykernel)",
   "language": "python",
   "name": "python3"
  },
  "language_info": {
   "codemirror_mode": {
    "name": "ipython",
    "version": 3
   },
   "file_extension": ".py",
   "mimetype": "text/x-python",
   "name": "python",
   "nbconvert_exporter": "python",
   "pygments_lexer": "ipython3",
   "version": "3.11.4"
  }
 },
 "nbformat": 4,
 "nbformat_minor": 5
}
