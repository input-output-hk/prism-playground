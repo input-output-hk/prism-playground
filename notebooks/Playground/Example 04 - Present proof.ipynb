{
 "cells": [
  {
   "cell_type": "markdown",
   "id": "7f64f643-ccd0-44eb-9f00-770a9c9864f5",
   "metadata": {
    "tags": []
   },
   "source": [
    "## Present proof\n",
    "\n",
    "Presenting a proof involves establishing a connection between the issuer and the holder, which is done by following the process outlined in `Example 01 - Connections`. Once the connection is established, the verifier will prepare and send a proof request, which creates a presentation record on both the verifier's and holder's agents. The holder will then retrieve the list of presentations, find the one they wish to accept, and notify the verifier of their acceptance. The accept proof message contains an id of a credential stored in the Holders Agent. Finally, the Verifier will receive the proof from the holder, completing the process.\n",
    "\n",
    "Note: the terminology \"proof request\" and \"presentation request\" may be used interchangeably \n",
    "\n",
    "### ⚠️ Important Note \n",
    "Please run *Example 03 - Issue Credential* before continuing with this example. "
   ]
  },
  {
   "cell_type": "code",
   "execution_count": null,
   "id": "4470368b-5861-4622-b332-355720d2c3eb",
   "metadata": {
    "tags": []
   },
   "outputs": [],
   "source": [
    "#🚨 Run this code cell to import requirements in the Kernel\n",
    "\n",
    "import os\n",
    "import time\n",
    "import datetime\n",
    "import base64\n",
    "import jwt\n",
    "import json\n",
    "import requests\n",
    "from pprint import pprint\n",
    "from dotenv import load_dotenv\n",
    "\n",
    "from prism_agent_client import Client\n",
    "from prism_agent_client.types import Response, Unset\n",
    "from prism_agent_client.models import Connection,ConnectionInvitation,CreateConnectionRequest,AcceptConnectionInvitationRequest\n",
    "from prism_agent_client.models import PresentationStatus, ErrorResponse, Proof, ProofRequestAux, PublicKeyJwk, RequestPresentationInput, RequestPresentationOutput, RequestPresentationAction, RequestPresentationActionAction\n",
    "from prism_agent_client.models import IssueCredentialRecord, CreateIssueCredentialRecordRequest, IssueCredentialRecordPage\n",
    "from prism_agent_client.models import DIDDocumentMetadata, DIDOperationResponse, DidOperationSubmission, Service  \n",
    "from prism_agent_client.api.connections_management import get_connections,get_connection,create_connection,accept_connection_invitation\n",
    "from prism_agent_client.api.issue_credentials_protocol import get_credential_record, get_credential_records, create_credential_offer,accept_credential_offer,issue_credential\n",
    "from prism_agent_client.api.present_proof import get_presentation, get_all_presentation, request_presentation, update_presentation\n",
    "from prism_agent_client.api.did import get_did\n"
   ]
  },
  {
   "cell_type": "markdown",
   "id": "2c20cf06-b5eb-43ca-97c6-e26fbac4b497",
   "metadata": {
    "tags": []
   },
   "source": [
    "### Ultilitary functions"
   ]
  },
  {
   "cell_type": "code",
   "execution_count": null,
   "id": "f23d8275-00af-4eb9-9d30-245b5dc09504",
   "metadata": {
    "tags": []
   },
   "outputs": [],
   "source": [
    "def get_invitation_str(connection):\n",
    "    parts = connection.invitation.invitation_url.split(\"=\")\n",
    "    return parts[1]\n",
    "\n",
    "def find_proof_request_by_state(client, state):\n",
    "    proof_requests: Response[PresentationStatus] = get_all_presentation.sync(client=client)\n",
    "    for proof_request in proof_requests.contents:\n",
    "        if(proof_request.status == state):\n",
    "            return proof_request\n",
    "    return None \n",
    "\n",
    "def find_proof_requests_by_state(client, state):\n",
    "    proof_requests: Response[PresentationStatus] = get_all_presentation.sync(client=client)\n",
    "    matching_proof_requests = [] \n",
    "\n",
    "    for proof_request in proof_requests.contents:\n",
    "        if proof_request.status == state:\n",
    "            matching_proof_requests.append(proof_request)\n",
    "\n",
    "    return matching_proof_requests  \n",
    "\n",
    "\n",
    "def find_credential(client):\n",
    "    credential_records: Response[IssueCredentialRecordPage] = get_credential_records.sync(client=client)\n",
    "    for offer in credential_records.contents:\n",
    "        if not (type(offer.jwt_credential) is Unset):\n",
    "            return offer\n",
    "    return None \n",
    "\n",
    "def print_proof_request(proof_request):\n",
    "    if hasattr(proof_request, \"presentation_id\"):\n",
    "        print(f\"presentation_id: {proof_request.presentation_id}\")\n",
    "    if hasattr(proof_request, \"status\"):\n",
    "        print(f\"status:          {proof_request.status}\")\n",
    "    if hasattr(proof_request, \"connection_id\"):\n",
    "        print(f\"connection_id:   {proof_request.connection_id}\")\n",
    "        \n",
    "def print_proof_requests(proof_requests):\n",
    "    for proof_request in proof_requests:\n",
    "        print_proof_request(proof_request)\n",
    "\n",
    "def print_connection(connection):\n",
    "    print(f\"connection_id: {connection.connection_id}\")\n",
    "    print(f\"state:         {connection.state}\")\n",
    "    print(f\"label:         {connection.label}\")\n",
    "    print(f\"my_did:        {connection.my_did}\")\n",
    "    print(f\"their_did:     {connection.their_did}\")\n",
    "    print(f\"created_at:    {connection.created_at}\")\n",
    "    \n",
    "troubleshooting_message = f'''\n",
    "🚨 An issue occurred while attempting to interact with the PRISM Agent 🚨\n",
    "\n",
    "- Check that the PRISM Agent you are trying to connect to is up and running, and that it is listening on the correct port. \n",
    "  You can try to connect to the Agent using a different tool to confirm that it is available. \n",
    "  (e.g. `curl --location '<host:port>/prism-agent/connections' --header 'apiKey: <key>'`) \n",
    "- Check if there are any network issues preventing the Notebook from connecting to the Agent. This can include firewalls, \n",
    "  proxies, and other network configurations.\n",
    "- Ensure that the Agent URL is correct, and that the correct API Keys are provided in the variables.env file.\n",
    "- If none of the above solutions work, check the logs of the Agent container to see if there are any more specific error \n",
    "  messages that can help diagnose the issue.'''\n",
    "\n",
    "def preflight(url, api_key):\n",
    "    try:\n",
    "        endpoint = f'{url}/connections'\n",
    "        headers = {'apiKey': api_key}\n",
    "        response = requests.get(endpoint, headers=headers, timeout=15)\n",
    "        if response.status_code == 200:\n",
    "            print(f\"URL ok: {url}\")\n",
    "        else:\n",
    "            raise Exception(f\"URL: {response.url} code: {response.status_code} content: {response.text}\")\n",
    "    except Exception as Ex:\n",
    "        raise Exception(f'{troubleshooting_message}\\n\\nURL: {url}\\nAPI Key: {api_key != \"\"}')"
   ]
  },
  {
   "cell_type": "markdown",
   "id": "57053f19-8354-4a52-9c14-ad89c8e4718a",
   "metadata": {},
   "source": [
    "### Client instances\n",
    "\n",
    "We will create two separate clients, one for the Verifier and one for the Holder, in order to establish a connection between the two.\n",
    "\n",
    "⚠️ Remember to update the file variables.env with the URLs and API keys provided to you.\n"
   ]
  },
  {
   "cell_type": "markdown",
   "id": "35bf7585-80ff-4d84-afdc-0479c0e8e510",
   "metadata": {
    "tags": []
   },
   "source": [
    "#### ⚠️ NOTE:\n",
    "If your host operating system is a nix-based OS that is not OSX or Windows please ensure you load the `../BetaProgram/variables_linux.env` environment variables.  \n",
    "To do this uncomment the following line in the cell below: `#load_dotenv(\"../BetaProgram/variables-linux.env\")`.  \n",
    "Otherwise you will encounter issues with errors such as `ConnectionRefusedError`, `ConnectError: [Errno <n>] Name or service not known`"
   ]
  },
  {
   "cell_type": "code",
   "execution_count": null,
   "id": "8389e691-de39-49d7-9972-03d3059de644",
   "metadata": {
    "tags": []
   },
   "outputs": [],
   "source": [
    "load_dotenv(\"../Playground/variables.env\")\n",
    "#load_dotenv(\"../Playground/variables-linux.env\")\n",
    "verifierApiKey = os.getenv('VERIFIER_APIKEY')\n",
    "verifierUrl = os.getenv('VERIFIER_URL')\n",
    "\n",
    "holderApiKey = os.getenv('HOLDER_APIKEY')\n",
    "holderUrl = os.getenv('HOLDER_URL')\n",
    "\n",
    "verifier_client = Client(base_url=verifierUrl, headers={\"apiKey\": verifierApiKey})\n",
    "verifier_client_did_doc = Client(base_url=verifierUrl, headers={\"apiKey\": verifierApiKey, \"accept\":\"application/did+ld+json\"})\n",
    "holder_client = Client(base_url=holderUrl, headers={\"apiKey\": holderApiKey})\n",
    "\n",
    "%xmode Minimal\n",
    "\n",
    "preflight(verifierUrl, verifierApiKey)\n",
    "preflight(holderUrl, holderApiKey)\n",
    "\n",
    "%xmode Verbose"
   ]
  },
  {
   "cell_type": "markdown",
   "id": "4ef31cb2-1dab-44c8-8d33-059bb8c1a027",
   "metadata": {
    "tags": []
   },
   "source": [
    "### Create connection\n",
    "\n",
    "ℹ️ For details on this see \"Example 01 - Connections\""
   ]
  },
  {
   "cell_type": "code",
   "execution_count": null,
   "id": "4f8772f4-feba-4be2-b000-d083931fee4c",
   "metadata": {
    "tags": []
   },
   "outputs": [],
   "source": [
    "print(\"Please wait...\")\n",
    "\n",
    "conn_request = CreateConnectionRequest()\n",
    "conn_request.label = f'Present proof {datetime.datetime.now().strftime(\"%Y-%m-%d %H:%M:%S\")}'\n",
    "verifier_connection: Response[Connection] =  create_connection.sync(client=verifier_client,json_body=conn_request)\n",
    "\n",
    "invitation = get_invitation_str(verifier_connection)\n",
    "\n",
    "accept_conn_request = AcceptConnectionInvitationRequest(invitation)\n",
    "holder_connection: Response[ConnectionInvitation] =  accept_connection_invitation.sync(client=holder_client,json_body=accept_conn_request)\n",
    "\n",
    "verifier_connection: Response[Connection] = get_connection.sync(client=verifier_client,connection_id=verifier_connection.connection_id)\n",
    "holder_connection: Response[Connection] = get_connection.sync(client=holder_client,connection_id=holder_connection.connection_id)\n",
    "\n",
    "while (verifier_connection.state != 'ConnectionResponseSent' or \n",
    "       not(holder_connection.state == 'ConnectionResponseReceived' or holder_connection.state == 'ConnectionRequestSent')):\n",
    "    verifier_connection: Response[Connection] = get_connection.sync(client=verifier_client,connection_id=verifier_connection.connection_id)\n",
    "    holder_connection: Response[Connection] = get_connection.sync(client=holder_client,connection_id=holder_connection.connection_id)\n",
    "    print(\"Verifier State: {} / Holder State: {} \\n\".format(verifier_connection.state,holder_connection.state))\n",
    "    time.sleep(1)\n",
    "    \n",
    "print(\"Connection established between verifier and Holder!\")\n",
    "print(\"\\nVerifier connection:\\n\")\n",
    "print_connection(verifier_connection)\n",
    "print(\"\\nHolder connection:\\n\")\n",
    "print_connection(holder_connection)"
   ]
  },
  {
   "cell_type": "markdown",
   "id": "3996cf0a-0279-47c5-98c1-24bb4ae00f69",
   "metadata": {},
   "source": [
    "### Verifier - Create proof request\n",
    "The Verifier prepares the proof request, it uses the `connection_id` of the connection with the Holder to define where to send the request. The `proofs` describe the credential requested "
   ]
  },
  {
   "cell_type": "code",
   "execution_count": null,
   "id": "6371eb11-cf89-4063-8d72-ac59ece40715",
   "metadata": {
    "tags": []
   },
   "outputs": [],
   "source": [
    "data = {\n",
    "    \"description\":\"Request presentation of credential\",\n",
    "    \"connectionId\": verifier_connection.connection_id,\n",
    "    \"options\":{\n",
    "        \"challenge\": \"11c91493-01b3-4c4d-ac36-b336bab5bddf\",\n",
    "        \"domain\": \"https://example-verifier.com\"\n",
    "    },\n",
    "    \"proofs\":[\n",
    "        {\n",
    "            \"schemaId\": \"https://schema.org/Person\",\n",
    "            \"trustIssuers\": [\n",
    "                \"did:web:atalaprism.io/users/testUser\"\n",
    "            ]\n",
    "        }\n",
    "    ]\n",
    "}\n",
    "\n",
    "proof_request = RequestPresentationInput.from_dict(data)"
   ]
  },
  {
   "cell_type": "markdown",
   "id": "e34574ec-6931-4d45-943c-38a7d9d9a004",
   "metadata": {},
   "source": [
    "### Verifier - Send proof request\n",
    "\n",
    "The Verifier sends the proof request. This action creates the presentation record in the Verifier side and sends the request to the Holder using the connection"
   ]
  },
  {
   "cell_type": "code",
   "execution_count": null,
   "id": "90d4f75d-5ed7-45b2-8478-dc2b0bd683f3",
   "metadata": {
    "tags": []
   },
   "outputs": [],
   "source": [
    "verifier_proof_request: Response[RequestPresentationInput] = request_presentation.sync(client=verifier_client, json_body=proof_request)\n",
    "print(\"\\nVerifier proof request:\\n\")\n",
    "print_proof_request(verifier_proof_request)"
   ]
  },
  {
   "cell_type": "markdown",
   "id": "1afada58-80f3-4f45-8ea8-8b0ed5ba8b1f",
   "metadata": {},
   "source": [
    "### Holder - Wait for proof request\n",
    "\n",
    "The Holder waits to receive the request"
   ]
  },
  {
   "cell_type": "code",
   "execution_count": null,
   "id": "4b3a3dec-5888-425a-8aa5-1e15f5eddde0",
   "metadata": {
    "tags": []
   },
   "outputs": [],
   "source": [
    "print(\"Please wait...\")\n",
    "\n",
    "holder_proof_requests = find_proof_requests_by_state(holder_client, \"RequestReceived\")\n",
    "\n",
    "while(holder_proof_requests == []):\n",
    "    holder_proof_requests = find_proof_requests_by_state(holder_client, \"RequestReceived\")\n",
    "    time.sleep(1)\n",
    "\n",
    "print(\"\\nHolder proof requests:\\n\")\n",
    "print_proof_requests(holder_proof_requests)"
   ]
  },
  {
   "cell_type": "markdown",
   "id": "7b2eb401-d308-4e6d-b5ac-fd4060f89619",
   "metadata": {},
   "source": [
    "### Holder - Accept proof request\n",
    "\n",
    "The Holder accepts the proof request by updating the presentation record with the action `REQUEST_ACCEPT`. The update also provides the `proof_id` corresponding to the credential used to fulfill the proof request.\n",
    "\n",
    "⚠️ The program will prompt for a credential `record_id`. Provide the one obtained at the last step of *Example 03 - Issue Credential*  \n",
    "To make it easier we will automatically load the `record_id` from *Example 03 - Issue Credential* with `%store -r holder_credential_record`\n",
    "\n",
    "**Note: `record_id` and `proof_id` refer to the same value**"
   ]
  },
  {
   "cell_type": "code",
   "execution_count": null,
   "id": "ac8bbee1-d201-40f3-a8c5-af1cc2fcb4df",
   "metadata": {
    "tags": []
   },
   "outputs": [],
   "source": [
    "# retrieve holder credential record_id from Example 03 - Issue Credential notebook\n",
    "%store -r holder_credential_record\n",
    "\n",
    "def valid_credential(client, record_id):\n",
    "    credential_record = get_credential_record.sync(client=client, record_id=record_id)\n",
    "    print(credential_record)\n",
    "    if credential_record is None:\n",
    "        return False\n",
    "    elif type(credential_record.jwt_credential) is Unset:\n",
    "        return False\n",
    "    else:\n",
    "        return True\n",
    "\n",
    "while True:\n",
    "    # credential_record_id = input(\"\\nprovide a credential record_id\").strip()\n",
    "    credential_record_id = holder_credential_record.record_id\n",
    "    if credential_record_id == \"\":\n",
    "        print(f\"\\n🚨 The provided credential record is not valid. Please create a credential on this agent {holderUrl} to proceed\")\n",
    "    elif(valid_credential(holder_client, credential_record_id)):\n",
    "        print(f\"\\n✅ Credential record is correct: {credential_record_id}\")\n",
    "        break\n",
    "    else:\n",
    "        print(f\"\\n🚨 The provided credential is not valid. Please create a credential on this agent {holderUrl} to proceed\")\n",
    "\n",
    "action = RequestPresentationAction(action=RequestPresentationActionAction.REQUEST_ACCEPT, proof_id=[credential_record_id])\n",
    "\n",
    "\n",
    "for holder_proof_request in holder_proof_requests:\n",
    "    update_presentation.sync(client=holder_client, json_body=action, presentation_id=holder_proof_request.presentation_id)\n",
    "\n",
    "    print(\"\\nHolder proof request:\\n\")\n",
    "    print(holder_proof_request.presentation_id)\n"
   ]
  },
  {
   "cell_type": "markdown",
   "id": "28579404-3dd5-407c-b315-10a9bb749f07",
   "metadata": {},
   "source": [
    "### Verifier - Wait for verification\n",
    "\n",
    "The Verifier waits for the proof. Once received, it updates the status of the presentation and gets the verifiable presentation data.   \n",
    "ℹ️ Note the status of the presentation after this step is `PresentationVerified`"
   ]
  },
  {
   "cell_type": "code",
   "execution_count": null,
   "id": "e534639a-40d0-4a60-8324-a7e239419675",
   "metadata": {
    "tags": []
   },
   "outputs": [],
   "source": [
    "print(\"Please wait...\")\n",
    "\n",
    "verifier_proof_request: Response[PresentationStatus] = get_presentation.sync(client=verifier_client, presentation_id=verifier_proof_request.presentation_id)\n",
    "\n",
    "print(f\"Verifier presentation: {verifier_proof_request.presentation_id}\")\n",
    "print(f\"Holder presentation:   {holder_proof_request.presentation_id}\\n\")\n",
    "while(verifier_proof_request.status != \"PresentationVerified\"):\n",
    "    verifier_proof_request: Response[PresentationStatus] = get_presentation.sync(client=verifier_client, presentation_id=verifier_proof_request.presentation_id)\n",
    "    holder_proof_request: Response[PresentationStatus] = get_presentation.sync(client=holder_client, presentation_id=holder_proof_request.presentation_id)\n",
    "    print(\"Verifier State: {} / Holder State: {}\".format(verifier_proof_request.status,holder_proof_request.status))\n",
    "    time.sleep(1)\n",
    "    \n",
    "print_proof_request(verifier_proof_request)"
   ]
  },
  {
   "cell_type": "markdown",
   "id": "51c88389-43c7-422f-afcf-7b97d16f959b",
   "metadata": {},
   "source": [
    "### Verifier - Check the presentation"
   ]
  },
  {
   "cell_type": "markdown",
   "id": "4de96743-5cc1-46c2-b662-b238294df298",
   "metadata": {},
   "source": [
    "The website https://jwt.io/ can be used to decode the verifiable presentation."
   ]
  },
  {
   "cell_type": "code",
   "execution_count": null,
   "id": "a8fcddaa-c26b-4bf2-af5b-1b4d566d94a2",
   "metadata": {
    "tags": []
   },
   "outputs": [],
   "source": [
    "verifier_proof_request.data[0]"
   ]
  },
  {
   "cell_type": "markdown",
   "id": "aab29415-1b75-4b66-9440-d22f4263ac77",
   "metadata": {},
   "source": [
    "### Decode verifiable presentation\n",
    "\n",
    "As an alternative to the website https://jwt.io/ below you will find the code to perform the verifiable presentation decoding programmatically:"
   ]
  },
  {
   "cell_type": "markdown",
   "id": "f5b82821-4596-4d4e-bfef-c9328f252904",
   "metadata": {},
   "source": [
    "#### Unverified Decoding"
   ]
  },
  {
   "cell_type": "code",
   "execution_count": null,
   "id": "8d428785-36ef-40f0-85bf-790730ebbc93",
   "metadata": {
    "tags": []
   },
   "outputs": [],
   "source": [
    "try:\n",
    "    jwt_vp_decoded_id_token = jwt.decode(verifier_proof_request.data[0], options={\"verify_signature\": False})\n",
    "    # print(jwt_decoded_id_token)\n",
    "    print(json.dumps(jwt_vp_decoded_id_token, indent=2))\n",
    "except (jwt.ExpiredSignatureError, jwt.InvalidAudienceError) as e:\n",
    "    print(\"[ERROR]\", e)"
   ]
  },
  {
   "cell_type": "markdown",
   "id": "82bc1510-e5b4-4cbf-a8a2-025b3ba104e9",
   "metadata": {
    "tags": []
   },
   "source": [
    "### Decode Verifiable Credential "
   ]
  },
  {
   "cell_type": "markdown",
   "id": "e1df47e9-b97d-4b6a-b9f3-4a7ad3cad601",
   "metadata": {},
   "source": [
    "#### Unverified Decoding"
   ]
  },
  {
   "cell_type": "code",
   "execution_count": null,
   "id": "193ee03a-41f3-4b59-85ab-ba0e294bd2ca",
   "metadata": {
    "tags": []
   },
   "outputs": [],
   "source": [
    "try:\n",
    "    jwt_vc_decoded_id_token = jwt.decode(jwt_vp_decoded_id_token['vp']['verifiableCredential'][0], options={\"verify_signature\": False})\n",
    "    # print(jwt_decoded_id_token)\n",
    "    print(json.dumps(jwt_vc_decoded_id_token, indent=2))\n",
    "except (jwt.ExpiredSignatureError, jwt.InvalidAudienceError) as e:\n",
    "    print(\"[ERROR]\", e)"
   ]
  },
  {
   "cell_type": "markdown",
   "id": "e4199829-d213-4041-829e-6ef13879b98c",
   "metadata": {},
   "source": [
    "#### Verified Decoding of Verifiable Credential"
   ]
  },
  {
   "cell_type": "markdown",
   "id": "0b8dd03f-f33f-411b-9996-53d4ec2b57a8",
   "metadata": {},
   "source": [
    "##### Resolve issuer DID"
   ]
  },
  {
   "cell_type": "code",
   "execution_count": null,
   "id": "5f4fdb2e-9981-482c-a001-874ec4f769a7",
   "metadata": {
    "tags": []
   },
   "outputs": [],
   "source": [
    "did = None\n",
    "\n",
    "while (did is None):\n",
    "    try:\n",
    "        did = get_did.sync(client=verifier_client_did_doc, did_ref=jwt_vc_decoded_id_token['iss'])\n",
    "    except Exception as e:\n",
    "        print(\"Please wait...\")\n",
    "        time.sleep(10)\n",
    "\n",
    "print(did.to_dict())"
   ]
  },
  {
   "cell_type": "markdown",
   "id": "d168f2d5-a9ff-4361-821f-cacf04f8cc8e",
   "metadata": {},
   "source": [
    "##### Extract assertion public JWK"
   ]
  },
  {
   "cell_type": "code",
   "execution_count": null,
   "id": "56366ff2-2970-4e8e-9b45-25d2db073a0f",
   "metadata": {
    "tags": []
   },
   "outputs": [],
   "source": [
    "for verification_method in did.verification_method:\n",
    "    if verification_method.id == did.assertion_method[0]:\n",
    "        print('Issuer KeyId\\n',verification_method.id)\n",
    "        print('Issuer KeyId JWK\\n',verification_method.public_key_jwk)\n",
    "        issuer_jwk = verification_method.public_key_jwk\n",
    "\n",
    "issuer_pubKey = jwt.algorithms.ECAlgorithm.from_jwk(json.dumps(issuer_jwk.to_dict()))"
   ]
  },
  {
   "cell_type": "markdown",
   "id": "bb4ad8e5-1824-4d8a-a4d8-2329ca25065c",
   "metadata": {},
   "source": [
    "##### Verify Verifiable Credential against resolved Issuer DID and associated authentication public JWK"
   ]
  },
  {
   "cell_type": "code",
   "execution_count": null,
   "id": "0533e7b7-8855-4fb9-8011-abf785bd5b49",
   "metadata": {
    "tags": []
   },
   "outputs": [],
   "source": [
    "try:\n",
    "    jwt_decoded_id_token = jwt.decode(jwt_vp_decoded_id_token['vp']['verifiableCredential'][0], key = issuer_pubKey, algorithms=[\"ES256K\"])\n",
    "    # print(jwt_decoded_id_token)\n",
    "    print(json.dumps(jwt_decoded_id_token, indent=2))\n",
    "    print(\"JWT Signature Verification Successful!\")\n",
    "except (jwt.ExpiredSignatureError, jwt.InvalidAudienceError) as e:\n",
    "    print(\"[ERROR]\", e)"
   ]
  },
  {
   "cell_type": "markdown",
   "id": "f698bd3d-4bfb-4006-8df5-0b0adbabe51b",
   "metadata": {},
   "source": [
    "##### Verify verifiable credential (with modification) against resolved Issuer DID and associated authentication public JWK\n",
    "> NOTE!! This should fail as we tampered with the verifiable credential"
   ]
  },
  {
   "cell_type": "code",
   "execution_count": null,
   "id": "00e9fe58-9ab0-4b45-b668-22322ef10440",
   "metadata": {
    "tags": []
   },
   "outputs": [],
   "source": [
    "jwt_tampered_id_token = jwt_vp_decoded_id_token['vp']['verifiableCredential'][0] + 'x'\n",
    "\n",
    "try:\n",
    "    jwt_tampered_decoded_id_token = jwt.decode(jwt_tampered_id_token, key = issuer_pubKey, algorithms=[\"ES256K\"])\n",
    "    # print(jwt_decoded_id_token)\n",
    "    # print(json.dumps(jwt_tampered_decoded_id_token, indent=2))\n",
    "except (jwt.ExpiredSignatureError, jwt.InvalidAudienceError, jwt.InvalidSignatureError) as e:\n",
    "    print(\"[ERROR]\", e)"
   ]
  }
 ],
 "metadata": {
  "kernelspec": {
   "display_name": "Python 3 (ipykernel)",
   "language": "python",
   "name": "python3"
  },
  "language_info": {
   "codemirror_mode": {
    "name": "ipython",
    "version": 3
   },
   "file_extension": ".py",
   "mimetype": "text/x-python",
   "name": "python",
   "nbconvert_exporter": "python",
   "pygments_lexer": "ipython3",
   "version": "3.11.4"
  }
 },
 "nbformat": 4,
 "nbformat_minor": 5
}
