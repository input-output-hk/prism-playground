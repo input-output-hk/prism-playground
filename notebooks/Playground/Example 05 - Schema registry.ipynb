{
 "cells": [
  {
   "cell_type": "markdown",
   "id": "c9eb1e63-ffe0-45c4-91d7-af4e3cff076f",
   "metadata": {},
   "source": [
    "## Schema Registry\n",
    "\n",
    "The schema registry allows the creation and retrieval of schemas. Deleting schemas is not possible. Updates can be done by by creating a modified copy of the schema with an updated version"
   ]
  },
  {
   "cell_type": "code",
   "execution_count": null,
   "id": "035f3b04-aadf-4282-9ebf-e8eaef0f5ff2",
   "metadata": {
    "tags": []
   },
   "outputs": [],
   "source": [
    "import socket\n",
    "import os\n",
    "import time\n",
    "import datetime\n",
    "import base64\n",
    "import uuid\n",
    "import requests\n",
    "import re\n",
    "from pprint import pprint\n",
    "from dotenv import load_dotenv\n",
    "from typing import Any, Dict, Optional, Union, cast\n",
    "\n",
    "from prism_agent_client import Client\n",
    "from prism_agent_client.models import CredentialSchemaResponse\n",
    "from prism_agent_client.models import CredentialSchemaInput\n",
    "from prism_agent_client.models import ErrorResponse\n",
    "from prism_agent_client.models import CreateManagedDidRequest, CreateManagedDIDResponse\n",
    "from prism_agent_client.types import Response\n",
    "from prism_agent_client.api.schema_registry import create_schema, get_schema_by_id, lookup_schemas_by_query\n",
    "from prism_agent_client.api.did_registrar import post_did_registrar_dids"
   ]
  },
  {
   "cell_type": "markdown",
   "id": "88fef08a-cc71-4953-801b-f50c6d553c1b",
   "metadata": {},
   "source": [
    "### Utilitary Functions"
   ]
  },
  {
   "cell_type": "code",
   "execution_count": null,
   "id": "2b13adaa-76a0-4aba-b400-172128565846",
   "metadata": {
    "tags": []
   },
   "outputs": [],
   "source": [
    "def print_schema(schema):\n",
    "    if hasattr(schema, \"id\"):\n",
    "        print(\"id:\", schema.id)\n",
    "    print(\"name:\", schema.name)\n",
    "    print(\"version:\", schema.version)\n",
    "    print(\"author:\", schema.author)\n",
    "    print(\"authored:\", schema.authored)\n",
    "    print(\"tags:\", schema.tags)\n",
    "    print(\"description:\", schema.description)\n",
    "    \n",
    "def print_schema_page(schema_page):\n",
    "    for schema in schema_page.contents:\n",
    "        print_schema(schema)\n",
    "        print()\n",
    "\n",
    "def to_canonical_did(long_form):\n",
    "    pattern = r\"did:prism:[a-fA-F0-9]{64}\"\n",
    "    match = re.search(pattern, long_form)\n",
    "    \n",
    "    if match:\n",
    "        return match.group()\n",
    "    else:\n",
    "        return None\n",
    "        \n",
    "troubleshooting_message = f'''\n",
    "🚨 An issue occurred while attempting to interact with the PRISM Agent 🚨\n",
    "\n",
    "- Check that the PRISM Agent you are trying to connect to is up and running, and that it is listening on the correct port. \n",
    "  You can try to connect to the Agent using a different tool to confirm that it is available. \n",
    "  (e.g. `curl --location '<host:port>/prism-agent/connections' --header 'apiKey: <key>'`) \n",
    "- Check if there are any network issues preventing the Notebook from connecting to the Agent. This can include firewalls, \n",
    "  proxies, and other network configurations.\n",
    "- Ensure that the Agent URL is correct, and that the correct API Keys are provided in the variables.env file.\n",
    "- If none of the above solutions work, check the logs of the Agent container to see if there are any more specific error \n",
    "  messages that can help diagnose the issue.'''\n",
    "\n",
    "def preflight(url, api_key):\n",
    "    try:\n",
    "        endpoint = f'{url}/connections'\n",
    "        headers = {'apiKey': api_key}\n",
    "        response = requests.get(endpoint, headers=headers, timeout=15)\n",
    "        if response.status_code == 200:\n",
    "            print(f\"URL ok: {url}\")\n",
    "        else:\n",
    "            raise Exception(f\"URL: {response.url} code: {response.status_code} content: {response.text}\")\n",
    "    except Exception as Ex:\n",
    "        raise Exception(f'{troubleshooting_message}\\n\\nURL: {url}\\nAPI Key: {api_key != \"\"}')\n",
    "\n",
    "def use_host_docker_internal():\n",
    "    try:\n",
    "        socket.gethostbyname(\"host.docker.internal\")\n",
    "        return True\n",
    "    except socket.gaierror: \n",
    "        return False"
   ]
  },
  {
   "cell_type": "markdown",
   "id": "c9485bfe-6255-4e67-b3db-26ce56eb0a98",
   "metadata": {},
   "source": [
    "### Client instances\n",
    "\n",
    "For this example we only need one Client.\n",
    "\n",
    "note: remember to update the file variables.env with the URLs and API keys provided to you.\n"
   ]
  },
  {
   "cell_type": "code",
   "execution_count": null,
   "id": "400aee15-0121-4c0c-88ee-0a83a8489779",
   "metadata": {
    "tags": []
   },
   "outputs": [],
   "source": [
    "env_file = \"../Playground/variables.env\" if use_host_docker_internal() else \"../Playground/variables-linux.env\"\n",
    "load_dotenv(env_file)\n",
    "\n",
    "issuerApiKey = os.getenv('ISSUER_APIKEY')\n",
    "issuerUrl = os.getenv('ISSUER_URL')\n",
    "\n",
    "issuer_client = Client(base_url=issuerUrl, headers={\"apiKey\": issuerApiKey})\n",
    "\n",
    "%xmode Minimal\n",
    "\n",
    "preflight(issuerUrl, issuerApiKey)\n",
    "\n",
    "%xmode Verbose"
   ]
  },
  {
   "cell_type": "markdown",
   "id": "e1230ec2-a3f2-4e14-9b7f-d57dcf6e3ef7",
   "metadata": {},
   "source": [
    "### Create the Author\n",
    "\n",
    "Create a DID to be used as a Schema author. It doesn't need to be a new DID but we will use a new one to keep the example self contianed."
   ]
  },
  {
   "cell_type": "code",
   "execution_count": null,
   "id": "836f6fee-b550-4419-9987-4a3a29bb9223",
   "metadata": {},
   "outputs": [],
   "source": [
    "data = {\n",
    "  \"documentTemplate\": {\n",
    "    \"publicKeys\": [\n",
    "        {\n",
    "            \"id\": \"key1\",\n",
    "            \"purpose\": \"authentication\"\n",
    "        },\n",
    "        {\n",
    "            \"id\": \"key2\",\n",
    "            \"purpose\": \"assertionMethod\"\n",
    "        }\n",
    "    ]\n",
    "  }\n",
    "}\n",
    "\n",
    "did_request = CreateManagedDidRequest.from_dict(data)\n",
    "did_author = to_canonical_did(post_did_registrar_dids.sync(client=issuer_client, json_body=did_request).long_form_did)\n",
    "\n",
    "print(did_author)"
   ]
  },
  {
   "cell_type": "markdown",
   "id": "b2977798-e9db-4ca6-8969-097e197d25c1",
   "metadata": {},
   "source": [
    "### Create Schema\n",
    "\n",
    "Publish the new schema with attributes to the schema registry on behalf of Cloud Agent. Schema will be signed by the keys of Cloud Agent and issued by the DID that corresponds to it"
   ]
  },
  {
   "cell_type": "code",
   "execution_count": null,
   "id": "b6855de5-e0cc-4d43-b57e-af39f38cdb66",
   "metadata": {
    "tags": []
   },
   "outputs": [],
   "source": [
    "\n",
    "data = {\n",
    "    \"name\": f\"Driving License {datetime.datetime.now().strftime('%Y-%m-%d %H:%M:%S')}\",\n",
    "    \"version\": f\"1.0.0+{datetime.datetime.now().strftime('%Y-%m-%d-%H-%M-%S')}\",\n",
    "    \"description\": \"Simple credential schema for the driving licence verifiable credential. This field is not a part of W3C specification\",\n",
    "    \"type\": \"https://w3c-ccg.github.io/vc-json-schemas/schema/2.0/schema.json\",\n",
    "    \"author\": did_author,\n",
    "    \"schema\": {\n",
    "        \"$id\": \"https://example.com/driving-license-1.0.0\",\n",
    "        \"$schema\": \"https://json-schema.org/draft/2020-12/schema\",\n",
    "        \"description\": \"Driving License\",\n",
    "        \"type\": \"object\",\n",
    "        \"properties\": {\n",
    "            \"credentialSubject\": {\n",
    "                \"type\": \"object\",\n",
    "                \"properties\": {\n",
    "                    \"emailAddress\": {\n",
    "                        \"type\": \"string\",\n",
    "                        \"format\": \"email\"\n",
    "                    },\n",
    "                    \"givenName\": {\n",
    "                        \"type\": \"string\"\n",
    "                    },\n",
    "                    \"familyName\": {\n",
    "                        \"type\": \"string\"\n",
    "                    },\n",
    "                    \"dateOfIssuance\": {\n",
    "                        \"type\": \"datetime\"\n",
    "                    },\n",
    "                    \"drivingLicenseID\": {\n",
    "                        \"type\": \"string\"\n",
    "                    },\n",
    "                    \"drivingClass\": {\n",
    "                        \"type\": \"integer\"\n",
    "                    },\n",
    "                    \"required\": [\n",
    "                        \"emailAddress\",\n",
    "                        \"familyName\",\n",
    "                        \"dateOfIssuance\",\n",
    "                        \"drivingLicenseID\",\n",
    "                        \"drivingClass\"\n",
    "                    ],\n",
    "                    \"additionalProperties\": True\n",
    "                }\n",
    "            }\n",
    "        }\n",
    "    },\n",
    "    \"tags\": [\n",
    "        \"driving\",\n",
    "        \"licence\",\n",
    "        \"id\"\n",
    "    ]\n",
    "}\n",
    "\n",
    "credential_schema_input = CredentialSchemaInput.from_dict(data)\n",
    "credential_schema: Response[Union[CredentialSchemaResponse, ErrorResponse]] = create_schema.sync(client=issuer_client, json_body=credential_schema_input)\n",
    "print(credential_schema)\n",
    "print_schema(credential_schema)"
   ]
  },
  {
   "cell_type": "markdown",
   "id": "c7572057-da0f-44b5-b87d-af391722e8af",
   "metadata": {},
   "source": [
    "### Lookup\n",
    "\n",
    "Lookup schemas by `author`, `name`, `tags` parameters and control the pagination by `offset` and `limit` parameters"
   ]
  },
  {
   "cell_type": "code",
   "execution_count": null,
   "id": "b6f329be-7e75-44b8-b11b-e477940b7e51",
   "metadata": {
    "tags": []
   },
   "outputs": [],
   "source": [
    "schema_page = lookup_schemas_by_query.sync(client=issuer_client, tags=[\"driving\"], limit=1)\n",
    "print_schema_page(schema_page)"
   ]
  },
  {
   "cell_type": "markdown",
   "id": "668c8dca-a60a-41cd-8cb8-27f017eb9a8a",
   "metadata": {},
   "source": [
    "### Fetch\n",
    "Fetch the schema by the unique identifier. Verifiable Credential Schema in json format is returned."
   ]
  },
  {
   "cell_type": "code",
   "execution_count": null,
   "id": "0cfd44bf-ab8d-497d-9ca2-939ab45b5f2e",
   "metadata": {
    "tags": []
   },
   "outputs": [],
   "source": [
    "credential_schema = get_schema_by_id.sync(client=issuer_client, guid=credential_schema.guid)\n",
    "print_schema(credential_schema)"
   ]
  }
 ],
 "metadata": {
  "kernelspec": {
   "display_name": "Python 3 (ipykernel)",
   "language": "python",
   "name": "python3"
  },
  "language_info": {
   "codemirror_mode": {
    "name": "ipython",
    "version": 3
   },
   "file_extension": ".py",
   "mimetype": "text/x-python",
   "name": "python",
   "nbconvert_exporter": "python",
   "pygments_lexer": "ipython3",
   "version": "3.11.4"
  }
 },
 "nbformat": 4,
 "nbformat_minor": 5
}
