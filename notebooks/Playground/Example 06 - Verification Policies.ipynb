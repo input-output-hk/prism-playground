{
 "cells": [
  {
   "cell_type": "markdown",
   "id": "06701926-733e-4d65-a336-eaa161e279cb",
   "metadata": {},
   "source": [
    "## Verification Policies\n",
    "\n",
    "Verification policies are rules a verifier sets to specify what information they require from a holder to verify their identity or qualifications. They serve as a way for verifiers to communicate their verification requirements to holders and are used in the Present Proof protocol to construct proof requests.   \n",
    "\n",
    "The PRISM Agent provides endpoints to create, update, fetch, lookup and delete verification policies. \n",
    "  \n",
    "The policies attributes include:\n",
    "- A unique ID\n",
    "- A name\n",
    "- Credential constraints. Composed by a credential schema identifier and a list of trusted issuers (Decentralized Identifiers)\n",
    "  "
   ]
  },
  {
   "cell_type": "code",
   "execution_count": null,
   "id": "fa7a7ce5-343b-47d5-8d9c-0782989cf570",
   "metadata": {
    "tags": []
   },
   "outputs": [],
   "source": [
    "import socket\n",
    "import os\n",
    "import time\n",
    "import datetime\n",
    "import base64\n",
    "import requests\n",
    "from pprint import pprint\n",
    "from dotenv import load_dotenv\n",
    "\n",
    "from prism_agent_client import Client\n",
    "from prism_agent_client.models import VerificationPolicy, VerificationPolicyInput, VerificationPolicyPage\n",
    "from prism_agent_client.api.verification import create_verification_policy, delete_verification_policy_by_id, get_verification_policy_by_id\n",
    "from prism_agent_client.api.verification import update_verification_policy, lookup_verification_policies_by_query\n",
    "from prism_agent_client.types import Response\n"
   ]
  },
  {
   "cell_type": "markdown",
   "id": "35868157-e687-4fe2-8381-9942056c5e55",
   "metadata": {
    "tags": []
   },
   "source": [
    "### Ultilitary functions"
   ]
  },
  {
   "cell_type": "code",
   "execution_count": null,
   "id": "fcdc6ceb-2a05-4f1a-9bcc-41661f92de77",
   "metadata": {
    "tags": []
   },
   "outputs": [],
   "source": [
    "def print_verification_policy(policy):\n",
    "    print(\"id:\", policy.id)\n",
    "    print(\"name:\", policy.name)\n",
    "    print(\"created_at:\", policy.created_at)\n",
    "    print(\"updated_at:\", policy.updated_at)\n",
    "    print(\"constraints:\", policy.constraints)\n",
    "    \n",
    "def print_verification_policy_page(verification_policy_page):\n",
    "    for verification_policy in verification_policy_page.contents:\n",
    "        print_verification_policy(verification_policy)\n",
    "        print()\n",
    "        \n",
    "troubleshooting_message = f'''\n",
    "🚨 An issue occurred while attempting to interact with the PRISM Agent 🚨\n",
    "\n",
    "- Check that the PRISM Agent you are trying to connect to is up and running, and that it is listening on the correct port. \n",
    "  You can try to connect to the Agent using a different tool to confirm that it is available. \n",
    "  (e.g. `curl --location '<host:port>/prism-agent/connections' --header 'apiKey: <key>'`) \n",
    "- Check if there are any network issues preventing the Notebook from connecting to the Agent. This can include firewalls, \n",
    "  proxies, and other network configurations.\n",
    "- Ensure that the Agent URL is correct, and that the correct API Keys are provided in the variables.env file.\n",
    "- If none of the above solutions work, check the logs of the Agent container to see if there are any more specific error \n",
    "  messages that can help diagnose the issue.'''\n",
    "\n",
    "def preflight(url, api_key):\n",
    "    try:\n",
    "        endpoint = f'{url}/connections'\n",
    "        headers = {'apiKey': api_key}\n",
    "        response = requests.get(endpoint, headers=headers, timeout=15)\n",
    "        if response.status_code == 200:\n",
    "            print(f\"URL ok: {url}\")\n",
    "        else:\n",
    "            raise Exception(f\"URL: {response.url} code: {response.status_code} content: {response.text}\")\n",
    "    except Exception as Ex:\n",
    "        raise Exception(f'{troubleshooting_message}\\n\\nURL: {url}\\nAPI Key: {api_key != \"\"}')\n",
    "\n",
    "def use_host_docker_internal():\n",
    "    try:\n",
    "        socket.gethostbyname(\"host.docker.internal\")\n",
    "        return True\n",
    "    except socket.gaierror: \n",
    "        return False"
   ]
  },
  {
   "cell_type": "markdown",
   "id": "6d7f2ec8-5ca8-40c0-b6c2-1e81dafdcb2d",
   "metadata": {},
   "source": [
    "### Client instances\n",
    "\n",
    "For this example we only need one client.\n",
    "\n",
    "note: remember to update the file variables.env with the URLs and API keys provided to you.\n"
   ]
  },
  {
   "cell_type": "code",
   "execution_count": null,
   "id": "c9da4200-da4c-492b-ad9b-9b542fde6122",
   "metadata": {
    "tags": []
   },
   "outputs": [],
   "source": [
    "env_file = \"../Playground/variables.env\" if use_host_docker_internal() else \"../Playground/variables-linux.env\"\n",
    "load_dotenv(env_file)\n",
    "\n",
    "verifierApiKey = os.getenv('VERIFIER_APIKEY')\n",
    "verifierUrl = os.getenv('VERIFIER_URL')\n",
    "\n",
    "verifier_client = Client(base_url=verifierUrl, headers={\"apiKey\": verifierApiKey})\n",
    "\n",
    "%xmode Minimal\n",
    "\n",
    "preflight(verifierUrl, verifierApiKey)\n",
    "\n",
    "%xmode Verbose"
   ]
  },
  {
   "cell_type": "markdown",
   "id": "490bee81-c257-4296-b228-f758ed23aa4c",
   "metadata": {},
   "source": [
    "### Create Verification Policy\n",
    "\n",
    "We will create two policies, one for driver's licenses and one for education requirements."
   ]
  },
  {
   "cell_type": "code",
   "execution_count": null,
   "id": "ba20af66-fe82-421a-8b71-b40ab8bcce80",
   "metadata": {
    "tags": []
   },
   "outputs": [],
   "source": [
    "data = {\n",
    "    \"name\": f\"Driver license verificaion {datetime.datetime.now().strftime('%Y-%m-%d %H:%M:%S')}\",\n",
    "    \"description\":\"Verification Policy Example\",\n",
    "    \"constraints\": [\n",
    "        {\n",
    "            \"schemaId\": \"drivers license\",\n",
    "            \"trustedIssuers\": [\n",
    "                \"did:prism:1234\"\n",
    "            ]\n",
    "        }\n",
    "    ]\n",
    "}\n",
    "verification_policy_input = VerificationPolicyInput.from_dict(data)\n",
    "verification_policy : [VerificationPolicy] = create_verification_policy.sync(client=verifier_client, json_body=verification_policy_input)\n",
    "\n",
    "print(f\"Drivers License: {verification_policy.id}\\n\")\n",
    "print_verification_policy(verification_policy)\n",
    "\n",
    "\n",
    "data_2 = {\n",
    "    \"name\": f\"Education requirement {datetime.datetime.now().strftime('%Y-%m-%d %H:%M:%S')}\",\n",
    "    \"description\":\"Verification Policy Example 2\",\n",
    "    \"constraints\": [\n",
    "        {\n",
    "            \"schemaId\": \"School diploma\",\n",
    "            \"trustedIssuers\": [\n",
    "                \"did:prism:5678\", \"did:prism:8765\"\n",
    "            ]\n",
    "        },\n",
    "        {\n",
    "            \"schemaId\": \"High School diploma\",\n",
    "            \"trustedIssuers\": [\n",
    "                \"did:prism:5678\", \"did:prism:8765\"\n",
    "            ]\n",
    "        }\n",
    "    ]\n",
    "}\n",
    "\n",
    "verification_policy_input_2 = VerificationPolicyInput.from_dict(data_2)\n",
    "verification_policy_2 : [VerificationPolicy] = create_verification_policy.sync(client=verifier_client, json_body=verification_policy_input_2)\n",
    "\n",
    "print(f\"\\nEducation Requirement: {verification_policy_2.id}\\n\")\n",
    "print_verification_policy(verification_policy_2)"
   ]
  },
  {
   "cell_type": "markdown",
   "id": "4861f391-0624-4119-b4e7-8db6df7936bd",
   "metadata": {
    "tags": []
   },
   "source": [
    "### Update Verification Policy\n",
    "\n",
    "Next, we will update the driver's License verification policy by a trusted issuer.  "
   ]
  },
  {
   "cell_type": "code",
   "execution_count": null,
   "id": "f443b54d-8118-4953-b0f7-95fc4f5efa52",
   "metadata": {
    "tags": []
   },
   "outputs": [],
   "source": [
    "data = {\n",
    "    \"name\": f\"Driver license verificaion {datetime.datetime.now().strftime('%Y-%m-%d %H:%M:%S')}\",\n",
    "    \"description\":\"Verification Policy Example\",\n",
    "    \"constraints\": [\n",
    "        {\n",
    "            \"schemaId\": \"drivers license\",\n",
    "            \"trustedIssuers\": [\n",
    "                \"did:prism:1234\",\n",
    "                \"did:prism:4321\"\n",
    "            ]\n",
    "        }\n",
    "    ]\n",
    "}\n",
    "verification_policy_input = VerificationPolicyInput.from_dict(data)\n",
    "verification_policy : [VerificationPolicy] = update_verification_policy.sync(client=verifier_client, \n",
    "                                                                             id=verification_policy.id,\n",
    "                                                                             nonce=verification_policy.nonce,\n",
    "                                                                             json_body=verification_policy_input)\n",
    "print_verification_policy(verification_policy)"
   ]
  },
  {
   "cell_type": "markdown",
   "id": "b2bdfe0b-0742-49ea-9309-f7cf883b7c02",
   "metadata": {
    "tags": []
   },
   "source": [
    "### Fetch\n",
    "\n",
    "Get the verification policy by id"
   ]
  },
  {
   "cell_type": "code",
   "execution_count": null,
   "id": "ad4c55f4-2f37-4d8a-b5c3-5a1a1b5b4a1b",
   "metadata": {
    "tags": []
   },
   "outputs": [],
   "source": [
    "verification_policy : [VerificationPolicy] = get_verification_policy_by_id.sync(client=verifier_client, id=verification_policy.id)\n",
    "print_verification_policy(verification_policy)"
   ]
  },
  {
   "cell_type": "markdown",
   "id": "02e0286e-d71b-4c41-86bb-5a89aa6bac74",
   "metadata": {},
   "source": [
    "### Lookup\n",
    "\n",
    "The lookup endpoint can be used to get a list of verification policies. The available filter is `name` and to control the pagination `offset` and `limit` parameters are available.        "
   ]
  },
  {
   "cell_type": "code",
   "execution_count": null,
   "id": "1f926190-dcc9-4203-877b-047847e0fdcb",
   "metadata": {
    "tags": []
   },
   "outputs": [],
   "source": [
    "verification_policy_page : [verification_policy_page] = lookup_verification_policies_by_query.sync(client=verifier_client, \n",
    "                                                                                                   name=[verification_policy.name], \n",
    "                                                                                                   limit=1)\n",
    "print_verification_policy_page(verification_policy_page)"
   ]
  },
  {
   "cell_type": "markdown",
   "id": "93ac582c-e942-4357-a145-565654f540c9",
   "metadata": {},
   "source": [
    "🚧 There is known issue with this feature. We are working on it. 🚧\n",
    "\n",
    "### Delete\n",
    "\n",
    "Verification policies can be deleted by `id`"
   ]
  },
  {
   "cell_type": "code",
   "execution_count": null,
   "id": "c099c520-e9be-45cd-a533-30ca62ba7b78",
   "metadata": {
    "tags": []
   },
   "outputs": [],
   "source": [
    "#verification_policy : [VerificationPolicy] = get_verification_policy_by_id.sync(client=verifier_client, id=verification_policy.id)\n",
    "#print(\"Get by id before deletion:\\n\")\n",
    "#print_verification_policy(verification_policy)\n",
    "\n",
    "#delete_verification_policy_by_id.sync(client=verifier_client,nonce=verification_policy.nonce, id=verification_policy.id)\n",
    "#response = get_verification_policy_by_id.sync(client=verifier_client, id=verification_policy.id)\n",
    "\n",
    "#print(f\"\\nGet by id after deletion: {response.msg}\")"
   ]
  }
 ],
 "metadata": {
  "kernelspec": {
   "display_name": "Python 3 (ipykernel)",
   "language": "python",
   "name": "python3"
  },
  "language_info": {
   "codemirror_mode": {
    "name": "ipython",
    "version": 3
   },
   "file_extension": ".py",
   "mimetype": "text/x-python",
   "name": "python",
   "nbconvert_exporter": "python",
   "pygments_lexer": "ipython3",
   "version": "3.11.4"
  }
 },
 "nbformat": 4,
 "nbformat_minor": 5
}
