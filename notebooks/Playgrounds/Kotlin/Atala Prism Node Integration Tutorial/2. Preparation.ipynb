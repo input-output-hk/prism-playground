{
 "cells": [
  {
   "cell_type": "markdown",
   "id": "7169f73b-1ac2-4fbc-9e65-1f66b278fdea",
   "metadata": {},
   "source": [
    "**NOTE**: The preparation is already completed as part of the Prism Notebook Playground and only here for illustrative purposes. You can skip to notebook 3. Prism SDK in Action to start using the Prism SDK immediately."
   ]
  },
  {
   "cell_type": "markdown",
   "id": "32adb154-3e89-40dd-8107-489f4c10516f",
   "metadata": {},
   "source": [
    "# Preparation\n",
    "\n",
    "This section explains how to integrate the **Atala PRISM SDK** into a **Kotlin** project using the **Gradle Build Tool**.\n",
    "\n",
    "**NOTE:** This tutorial assumes proficiency in setting up/working with [Gradle](https://gradle.org/) projects. Create a new project or open an existing one.\n",
    "\n",
    "It is worth saying that the examples use the `runBlocking` clause to make the examples simpler (i.e. not having to worry about coroutine contexts). If **Kotlin** is used as integration there is no need to use `runBlocking` directly.\n",
    "\n",
    "## Prerequisites\n",
    "\n",
    "In order to consume SDK API, you need to install [Java 11](https://www.oracle.com/java/technologies/javase/jdk11-archive-downloads.html). For managing multiple Java versions we recommend you to try [SDKMAN!](https://sdkman.io/).\n",
    "\n",
    "## Adding dependencies\n",
    "\n",
    "### Getting required libraries\n",
    "You can add SDK modules to your project by downloading them from the GitHub Packages. See the next section for more details.\n",
    "\n",
    "### Adding dependencies to Gradle\n",
    "\n",
    "After creating (or opening) the **Gradle** project, add the necessary dependencies to your `build.gradle`:\n",
    "```kotlin\n",
    "// needed for cryptography primitives implementation\n",
    "implementation(\"io.iohk.atala:prism-crypto:$VERSION\")\n",
    "// needed to deal with DIDs\n",
    "implementation(\"io.iohk.atala:prism-identity:$VERSION\")\n",
    "// needed to deal with credentials\n",
    "implementation(\"io.iohk.atala:prism-credentials:$VERSION\")\n",
    "// needed to interact with PRISM Node service\n",
    "implementation(\"io.iohk.atala:prism-api:$VERSION\")\\n\n",
    "// needed for the credential content, bring the latest version\n",
    "implementation(\"org.jetbrains.kotlinx:kotlinx-serialization-json:1.2.2\")\n",
    "// needed for dealing with dates, bring the latest version\n",
    "implementation(\"org.jetbrains.kotlinx:kotlinx-datetime:0.2.1\")\n",
    "```\n",
    "\n",
    "Also, include these repositories to be able to resolve all the dependencies and set `ATALA_GITHUB_TOKEN` environment variable to be able to access them.\n",
    "\n",
    "```kotlin\n",
    "repositories {\n",
    "    mavenCentral()\n",
    "    mavenLocal()\n",
    "    google()\n",
    "    maven(\"https://plugins.gradle.org/m2/\")\n",
    "    // Required for Kotlin coroutines that support new memory management mode\n",
    "    maven {\n",
    "        url = uri(\"https://maven.pkg.jetbrains.space/public/p/kotlinx-coroutines/maven\")\n",
    "    }\n",
    "    maven {\n",
    "        url = uri(\"https://maven.pkg.github.com/input-output-hk/atala-prism-sdk\")\n",
    "        credentials {\n",
    "            username = \"atala-dev\"\n",
    "            password = System.getenv(\"ATALA_GITHUB_TOKEN\")\n",
    "        }\n",
    "    }\n",
    "}\n",
    "```\n"
   ]
  }
 ],
 "metadata": {
  "kernelspec": {
   "display_name": "Kotlin",
   "language": "kotlin",
   "name": "kotlin"
  },
  "language_info": {
   "codemirror_mode": "text/x-kotlin",
   "file_extension": ".kt",
   "mimetype": "text/x-kotlin",
   "name": "kotlin",
   "nbconvert_exporter": "",
   "pygments_lexer": "kotlin",
   "version": "1.7.20-dev-1299"
  }
 },
 "nbformat": 4,
 "nbformat_minor": 5
}