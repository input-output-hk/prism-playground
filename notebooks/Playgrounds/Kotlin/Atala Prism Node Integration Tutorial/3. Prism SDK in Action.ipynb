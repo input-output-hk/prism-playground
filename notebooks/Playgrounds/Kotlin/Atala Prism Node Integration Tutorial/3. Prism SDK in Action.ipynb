{
 "cells": [
  {
   "cell_type": "markdown",
   "id": "c0c1dce2-70e8-4654-90ea-7617f7502b1b",
   "metadata": {},
   "source": [
    "# Getting Started Guide for Atala Prism"
   ]
  },
  {
   "cell_type": "markdown",
   "id": "5f4d8744-8aa0-4a06-91bd-30d4fd44366e",
   "metadata": {},
   "source": [
    "## Import Libraries\n",
    "Copy the `saveAtalaSdkDependencies.txt` content into the cell below to import all the Atala Prism JAR libraries"
   ]
  },
  {
   "cell_type": "code",
   "execution_count": 1,
   "id": "7b644104-4606-4e5b-b3e1-9e82a615d899",
   "metadata": {},
   "outputs": [],
   "source": [
    "@file:DependsOn(\"/home/atala_prism_sdk/peerdid-0.3.0.jar\")\n",
    "@file:DependsOn(\"/home/atala_prism_sdk/prism-api-jvm-v1.3.3.jar\")\n",
    "@file:DependsOn(\"/home/atala_prism_sdk/prism-credentials-jvm-v1.3.3.jar\")\n",
    "@file:DependsOn(\"/home/atala_prism_sdk/prism-identity-jvm-v1.3.3.jar\")\n",
    "@file:DependsOn(\"/home/atala_prism_sdk/prism-crypto-jvm-v1.3.3.jar\")\n",
    "@file:DependsOn(\"/home/atala_prism_sdk/prism-protos-jvm-v1.3.3.jar\")\n",
    "@file:DependsOn(\"/home/atala_prism_sdk/kotlinx-datetime-jvm-0.2.1.jar\")\n",
    "@file:DependsOn(\"/home/atala_prism_sdk/runtime-jvm-0.20.7.jar\")\n",
    "@file:DependsOn(\"/home/atala_prism_sdk/kotlinx-serialization-json-jvm-1.3.0.jar\")\n",
    "@file:DependsOn(\"/home/atala_prism_sdk/better-parse-jvm-0.4.3.jar\")\n",
    "@file:DependsOn(\"/home/atala_prism_sdk/ktor-io-jvm-1.6.5.jar\")\n",
    "@file:DependsOn(\"/home/atala_prism_sdk/kotlinx-coroutines-jdk8-1.5.2.jar\")\n",
    "@file:DependsOn(\"/home/atala_prism_sdk/prism-common-jvm-v1.3.3.jar\")\n",
    "@file:DependsOn(\"/home/atala_prism_sdk/bignum-jvm-0.3.1.jar\")\n",
    "@file:DependsOn(\"/home/atala_prism_sdk/krypto-jvm-2.4.12.jar\")\n",
    "@file:DependsOn(\"/home/atala_prism_sdk/uuid-jvm-0.3.0.jar\")\n",
    "@file:DependsOn(\"/home/atala_prism_sdk/grpc-kotlin-stub-1.0.0.jar\")\n",
    "@file:DependsOn(\"/home/atala_prism_sdk/kotlinx-coroutines-core-jvm-1.5.2.jar\")\n",
    "@file:DependsOn(\"/home/atala_prism_sdk/kotlin-stdlib-jdk8-1.6.10.jar\")\n",
    "@file:DependsOn(\"/home/atala_prism_sdk/kotlinx-serialization-core-jvm-1.3.0.jar\")\n",
    "@file:DependsOn(\"/home/atala_prism_sdk/kotlin-stdlib-jdk7-1.6.10.jar\")\n",
    "@file:DependsOn(\"/home/atala_prism_sdk/pbandk-protos-0.20.7.jar\")\n",
    "@file:DependsOn(\"/home/atala_prism_sdk/kotlin-stdlib-1.6.10.jar\")\n",
    "@file:DependsOn(\"/home/atala_prism_sdk/didcomm-0.3.0.jar\")\n",
    "@file:DependsOn(\"/home/atala_prism_sdk/annotations-13.0.jar\")\n",
    "@file:DependsOn(\"/home/atala_prism_sdk/kotlin-stdlib-common-1.6.10.jar\")\n",
    "@file:DependsOn(\"/home/atala_prism_sdk/tink-1.6.1.jar\")\n",
    "@file:DependsOn(\"/home/atala_prism_sdk/varint-1.0.0.jar\")\n",
    "@file:DependsOn(\"/home/atala_prism_sdk/grpc-okhttp-1.36.0.jar\")\n",
    "@file:DependsOn(\"/home/atala_prism_sdk/grpc-core-1.36.0.jar\")\n",
    "@file:DependsOn(\"/home/atala_prism_sdk/gson-2.8.8.jar\")\n",
    "@file:DependsOn(\"/home/atala_prism_sdk/bitcoinj-core-0.15.10.jar\")\n",
    "@file:DependsOn(\"/home/atala_prism_sdk/grpc-protobuf-1.29.0.jar\")\n",
    "@file:DependsOn(\"/home/atala_prism_sdk/grpc-protobuf-lite-1.36.0.jar\")\n",
    "@file:DependsOn(\"/home/atala_prism_sdk/grpc-stub-1.29.0.jar\")\n",
    "@file:DependsOn(\"/home/atala_prism_sdk/grpc-api-1.36.0.jar\")\n",
    "@file:DependsOn(\"/home/atala_prism_sdk/guava-30.1-jre.jar\")\n",
    "@file:DependsOn(\"/home/atala_prism_sdk/bcprov-jdk15on-1.68.jar\")\n",
    "@file:DependsOn(\"/home/atala_prism_sdk/prov-1.58.0.0.jar\")\n",
    "@file:DependsOn(\"/home/atala_prism_sdk/protobuf-java-3.14.0.jar\")\n",
    "@file:DependsOn(\"/home/atala_prism_sdk/failureaccess-1.0.1.jar\")\n",
    "@file:DependsOn(\"/home/atala_prism_sdk/listenablefuture-9999.0-empty-to-avoid-conflict-with-guava.jar\")\n",
    "@file:DependsOn(\"/home/atala_prism_sdk/jsr305-3.0.2.jar\")\n",
    "@file:DependsOn(\"/home/atala_prism_sdk/checker-qual-3.5.0.jar\")\n",
    "@file:DependsOn(\"/home/atala_prism_sdk/error_prone_annotations-2.4.0.jar\")\n",
    "@file:DependsOn(\"/home/atala_prism_sdk/j2objc-annotations-1.3.jar\")\n",
    "@file:DependsOn(\"/home/atala_prism_sdk/bcprov-jdk15to18-1.68.jar\")\n",
    "@file:DependsOn(\"/home/atala_prism_sdk/okhttp-3.12.8.jar\")\n",
    "@file:DependsOn(\"/home/atala_prism_sdk/slf4j-api-1.7.32.jar\")\n",
    "@file:DependsOn(\"/home/atala_prism_sdk/jcip-annotations-1.0.jar\")\n",
    "@file:DependsOn(\"/home/atala_prism_sdk/core-1.58.0.0.jar\")\n",
    "@file:DependsOn(\"/home/atala_prism_sdk/junit-4.12.jar\")\n",
    "@file:DependsOn(\"/home/atala_prism_sdk/okio-1.17.5.jar\")\n",
    "@file:DependsOn(\"/home/atala_prism_sdk/hamcrest-core-1.3.jar\")\n",
    "@file:DependsOn(\"/home/atala_prism_sdk/javax.annotation-api-1.2.jar\")\n",
    "@file:DependsOn(\"/home/atala_prism_sdk/okhttp-2.7.4.jar\")\n",
    "@file:DependsOn(\"/home/atala_prism_sdk/perfmark-api-0.23.0.jar\")\n",
    "@file:DependsOn(\"/home/atala_prism_sdk/animal-sniffer-annotations-1.19.jar\")\n",
    "@file:DependsOn(\"/home/atala_prism_sdk/protobuf-javalite-3.12.0.jar\")\n",
    "@file:DependsOn(\"/home/atala_prism_sdk/proto-google-common-protos-1.17.0.jar\")\n",
    "@file:DependsOn(\"/home/atala_prism_sdk/annotations-4.1.1.4.jar\")\n",
    "@file:DependsOn(\"/home/atala_prism_sdk/grpc-context-1.36.0.jar\")"
   ]
  },
  {
   "cell_type": "markdown",
   "id": "2b42dee3-d0cd-4942-aafb-412ada1f0d40",
   "metadata": {},
   "source": [
    "## Importing Atala PRISM Modules\n",
    "\n",
    "For the rest of the tutorial insert the code snippets into a **Kotlin** file.\n",
    "\n",
    "Let's import the **Atala PRISM** modules required to complete the next steps"
   ]
  },
  {
   "cell_type": "code",
   "execution_count": 2,
   "id": "bbd1e774-4b31-4d76-b101-7a06515a0195",
   "metadata": {},
   "outputs": [],
   "source": [
    "import io.iohk.atala.prism.api.*\n",
    "import io.iohk.atala.prism.api.models.AtalaOperationId\n",
    "import io.iohk.atala.prism.api.models.AtalaOperationStatus\n",
    "import io.iohk.atala.prism.api.node.*\n",
    "import io.iohk.atala.prism.crypto.derivation.KeyDerivation\n",
    "import io.iohk.atala.prism.crypto.derivation.MnemonicCode\n",
    "import io.iohk.atala.prism.crypto.keys.ECKeyPair\n",
    "import io.iohk.atala.prism.identity.*\n",
    "import io.iohk.atala.prism.protos.*\n",
    "import kotlinx.coroutines.*\n",
    "import kotlinx.serialization.json.JsonObject\n",
    "import kotlinx.serialization.json.JsonPrimitive"
   ]
  },
  {
   "cell_type": "markdown",
   "id": "1e724101-4197-427d-a0d2-49507cd4facd",
   "metadata": {
    "tags": []
   },
   "source": [
    "## Utilities\n",
    "\n",
    "Let's add a couple of utility functions.\n",
    "\n",
    "**NOTE:** In case you are actually using Cardano ledger (mainnet or testnet), beware that additional waits may be needed between the calls to Node services (for e.g. publishing a **DID** might take about 10 minutes). That's where `waitUntilConfirmed` could be used to wait for given operation to be confirmed and applied by the **PRISM Node**."
   ]
  },
  {
   "cell_type": "code",
   "execution_count": 3,
   "id": "62cd66f4-a9c3-4102-ab0f-8aac39319286",
   "metadata": {},
   "outputs": [],
   "source": [
    "// Waits until an operation is confirmed by the Cardano network.\n",
    "// NOTE: Confirmation doesn't necessarily mean that operation was applied.\n",
    "// For example, it could be rejected because of an incorrect signature or other reasons.\n",
    "fun waitUntilConfirmed(nodePublicApi: NodePublicApi, operationId: AtalaOperationId) {\n",
    "    var status = runBlocking {\n",
    "        nodePublicApi.getOperationStatus(operationId)\n",
    "    }\n",
    "    while (status != AtalaOperationStatus.CONFIRMED_AND_APPLIED &&\n",
    "        status != AtalaOperationStatus.CONFIRMED_AND_REJECTED\n",
    "    ) {\n",
    "        println(\"Current operation status: ${AtalaOperationStatus.asString(status)}\")\n",
    "        Thread.sleep(10000)\n",
    "        status = runBlocking {\n",
    "            nodePublicApi.getOperationStatus(operationId)\n",
    "        }\n",
    "    }\n",
    "}\n",
    "\n",
    "// Creates a list of potentially useful keys out of a mnemonic code\n",
    "fun prepareKeysFromMnemonic(mnemonic: MnemonicCode, pass: String): Map<String, ECKeyPair> {\n",
    "    val seed = KeyDerivation.binarySeed(mnemonic, pass)\n",
    "    val issuerMasterKeyPair = KeyGenerator.deriveKeyFromFullPath(seed, 0, MasterKeyUsage, 0)\n",
    "    val issuerIssuingKeyPair = KeyGenerator.deriveKeyFromFullPath(seed, 0, IssuingKeyUsage, 0)\n",
    "    val issuerRevocationKeyPair = KeyGenerator.deriveKeyFromFullPath(seed, 0, RevocationKeyUsage, 0)\n",
    "    return mapOf(\n",
    "        Pair(PrismDid.DEFAULT_MASTER_KEY_ID, issuerMasterKeyPair),\n",
    "        Pair(PrismDid.DEFAULT_ISSUING_KEY_ID, issuerIssuingKeyPair),\n",
    "        Pair(PrismDid.DEFAULT_REVOCATION_KEY_ID, issuerRevocationKeyPair)\n",
    "    )\n",
    "}"
   ]
  },
  {
   "cell_type": "markdown",
   "id": "3c982b0a-f8bc-4dc5-8913-909701e32fe5",
   "metadata": {},
   "source": [
    "## Backend clients\n",
    "\n",
    "At last, let's create the client for the **Node** backend service, which is involved in this tutorial:"
   ]
  },
  {
   "cell_type": "code",
   "execution_count": 4,
   "id": "d114c680-af37-4c6c-ae72-977b0b29e50e",
   "metadata": {},
   "outputs": [],
   "source": [
    "val environment = \"ppp.atalaprism.io\"\n",
    "val nodeAuthApi = NodeAuthApiImpl(GrpcOptions(\"https\", environment, 50053))"
   ]
  },
  {
   "cell_type": "markdown",
   "id": "ecda619d-dbb7-4d54-9b94-5e5654b0fdac",
   "metadata": {
    "tags": []
   },
   "source": [
    "## Issuer: Generate Identity\n",
    "\n",
    "The **Issuer's** goal in this tutorial is to issue a credential to **Holder**, and eventually, revoke it.\n",
    "\n",
    "In order to do that, some preparation steps need to be done:\n",
    "1. Generate a **Decentralized Identifier (DID)** for **Issuer**.\n",
    "2. Publish the **Issuer's DID** to **Cardano**, which is a necessary step for anyone willing to issue credentials.\n",
    "\n",
    "During preparation, set up a project that includes **Atala PRISM SDK** and proceed to do the **Issuer** steps.\n",
    "\n",
    "**NOTE:** Extensive knowledge or understanding of **DIDs** is not required to complete this tutorial. Check the official [DID specifications](https://w3c-ccg.github.io/did-spec/) or [Decentralized identifiers on Wiki](https://en.wikipedia.org/wiki/Decentralized_identifiers) for reference.\n",
    "\n",
    "### Generating a DID\n",
    "\n",
    "Generating a **DID** requires associating a public key. This example generates a public key from a random mnemonic code and then publishes the **DID** to **Cardano** by invoking the **Node** service:"
   ]
  },
  {
   "cell_type": "code",
   "execution_count": null,
   "id": "16858658-f6f6-412b-b45b-b514bc38fe0b",
   "metadata": {},
   "outputs": [
    {
     "name": "stdout",
     "output_type": "stream",
     "text": [
      "Issuer: Generates and registers a DID\n",
      "- Issuer sent a request to create a new DID to PRISM Node.\n",
      "- The transaction can take up to 10 minutes to be confirmed by the Cardano network.\n",
      "- Operation identifier: 00c893803c3a90b60dbdb4ffd61c49ab0a9f0b223e7704ae10769216c0192342\n",
      "\n",
      "Current operation status: PENDING_SUBMISSION\n",
      "Current operation status: PENDING_SUBMISSION\n",
      "Current operation status: PENDING_SUBMISSION\n",
      "Current operation status: PENDING_SUBMISSION\n",
      "Current operation status: PENDING_SUBMISSION\n",
      "Current operation status: PENDING_SUBMISSION\n",
      "Current operation status: PENDING_SUBMISSION\n",
      "Current operation status: PENDING_SUBMISSION\n",
      "Current operation status: PENDING_SUBMISSION\n",
      "Current operation status: PENDING_SUBMISSION\n",
      "Current operation status: PENDING_SUBMISSION\n",
      "Current operation status: PENDING_SUBMISSION\n",
      "Current operation status: PENDING_SUBMISSION\n",
      "Current operation status: PENDING_SUBMISSION\n",
      "Current operation status: PENDING_SUBMISSION\n",
      "Current operation status: PENDING_SUBMISSION\n",
      "Current operation status: PENDING_SUBMISSION\n",
      "Current operation status: PENDING_SUBMISSION\n",
      "Current operation status: PENDING_SUBMISSION\n",
      "Current operation status: PENDING_SUBMISSION\n",
      "Current operation status: PENDING_SUBMISSION\n",
      "Current operation status: PENDING_SUBMISSION\n",
      "Current operation status: PENDING_SUBMISSION\n",
      "Current operation status: PENDING_SUBMISSION\n",
      "Current operation status: PENDING_SUBMISSION\n",
      "Current operation status: PENDING_SUBMISSION\n",
      "Current operation status: PENDING_SUBMISSION\n",
      "Current operation status: PENDING_SUBMISSION\n",
      "Current operation status: PENDING_SUBMISSION\n",
      "Current operation status: PENDING_SUBMISSION\n",
      "Current operation status: PENDING_SUBMISSION\n",
      "Current operation status: PENDING_SUBMISSION\n",
      "Current operation status: PENDING_SUBMISSION\n",
      "Current operation status: PENDING_SUBMISSION\n",
      "Current operation status: PENDING_SUBMISSION\n",
      "Current operation status: PENDING_SUBMISSION\n",
      "Current operation status: PENDING_SUBMISSION\n",
      "Current operation status: PENDING_SUBMISSION\n",
      "Current operation status: PENDING_SUBMISSION\n",
      "Current operation status: PENDING_SUBMISSION\n",
      "Current operation status: PENDING_SUBMISSION\n",
      "Current operation status: PENDING_SUBMISSION\n",
      "Current operation status: PENDING_SUBMISSION\n",
      "Current operation status: PENDING_SUBMISSION\n"
     ]
    }
   ],
   "source": [
    "// Issuer claims an identity\n",
    "println(\"Issuer: Generates and registers a DID\")\n",
    "val issuerKeys = prepareKeysFromMnemonic(KeyDerivation.randomMnemonicCode(), \"passphrase\")\n",
    "val issuerUnpublishedDid =\n",
    "    PrismDid.buildLongFormFromMasterPublicKey(issuerKeys[PrismDid.DEFAULT_MASTER_KEY_ID]?.publicKey!!)\n",
    "val issuerDid = issuerUnpublishedDid.asCanonical()\n",
    "\n",
    "var issuerNodePayloadGenerator = NodePayloadGenerator(\n",
    "    issuerUnpublishedDid,\n",
    "    mapOf(\n",
    "        PrismDid.DEFAULT_MASTER_KEY_ID to issuerKeys[PrismDid.DEFAULT_MASTER_KEY_ID]?.privateKey!!\n",
    "    )\n",
    ")\n",
    "\n",
    "// creation of CreateDID operation\n",
    "val issuerCreateDidInfo = issuerNodePayloadGenerator.createDid()\n",
    "\n",
    "// sending CreateDID operation to the ledger\n",
    "val issuerCreateDidOperationId = runBlocking {\n",
    "    nodeAuthApi.createDid(\n",
    "        issuerCreateDidInfo.payload,\n",
    "        issuerUnpublishedDid,\n",
    "        PrismDid.DEFAULT_MASTER_KEY_ID\n",
    "    )\n",
    "}\n",
    "\n",
    "println(\n",
    "    \"\"\"\n",
    "    - Issuer sent a request to create a new DID to PRISM Node.\n",
    "    - The transaction can take up to 10 minutes to be confirmed by the Cardano network.\n",
    "    - Operation identifier: ${issuerCreateDidOperationId.hexValue()}\n",
    "    \"\"\".trimIndent()\n",
    ")\n",
    "println()\n",
    "\n",
    "// Wait until Cardano network confirms the DID creation\n",
    "waitUntilConfirmed(nodeAuthApi, issuerCreateDidOperationId)\n",
    "\n",
    "println(\n",
    "    \"\"\"\n",
    "    - DID with id $issuerDid is created\n",
    "    \"\"\".trimIndent()\n",
    ")\n",
    "println()"
   ]
  },
  {
   "cell_type": "markdown",
   "id": "f2718745-139e-4a6f-886a-9b88741595de",
   "metadata": {
    "tags": []
   },
   "source": [
    "## Holder: Generate Identity\n",
    "\n",
    "The **Holder's** goal in this tutorial is to receive a credential from **Issuer**. In order to do that, you will need to generate an **unpublished DID** to identify **Holder**. In general, it's a good practice for **Holders** to generate a new DID for each certificate, in order to improve privacy.\n",
    "\n",
    "Please note, that in this simplistic example, credential is immediately available to **Verifier** for verification, but in some more realistic scenario, it would require a communication channel between **Holder** and **Verifier** in order to exchange a credential.\n",
    "\n",
    "### Generating Holder DID\n",
    "The **Holder DID** is generated similarly to how the **Issuer DID** was generated. The main difference is that there is no proof in **Cardano** about the existence of such **DID**."
   ]
  },
  {
   "cell_type": "code",
   "execution_count": 7,
   "id": "fafd6896-542e-47e3-bee7-c9137cc05438",
   "metadata": {},
   "outputs": [
    {
     "name": "stdout",
     "output_type": "stream",
     "text": [
      "Holder: DID generated: did:prism:8d861b8ef2d21bef8afb60059a82a012004fd6764c25f09c7f8bf694873d8992:Cj8KPRI7CgdtYXN0ZXIwEAFKLgoJc2VjcDI1NmsxEiECW3l-azXS5CpqGSMi95DuABmAlbx51qZ0mZ078wLvBLY\n"
     ]
    }
   ],
   "source": [
    "// Holder generates its identity\n",
    "val holderKeys = prepareKeysFromMnemonic(KeyDerivation.randomMnemonicCode(), \"secret\")\n",
    "val holderUnpublishedDid =\n",
    "    PrismDid.buildLongFormFromMasterPublicKey(holderKeys[PrismDid.DEFAULT_MASTER_KEY_ID]?.publicKey!!)\n",
    "println(\"Holder: DID generated: $holderUnpublishedDid\")"
   ]
  },
  {
   "cell_type": "markdown",
   "id": "1bba64c8-7e56-4112-9d97-e4c201d538d4",
   "metadata": {},
   "source": [
    "## Issuer: Issue Credential\n",
    "\n",
    "Now, **Issuer** is able to issue a credential to **Holder**.\n",
    "\n",
    "### Update Issuer's DID Document\n",
    "Before we issue a certificate, we have to update issuer's **DID Document** with issuer's **Issuing Keys**."
   ]
  },
  {
   "cell_type": "code",
   "execution_count": null,
   "id": "0d42b67c-2179-4bcc-94af-cbe22b9b8abc",
   "metadata": {},
   "outputs": [],
   "source": [
    "// Generator should contain the issuing key so let's create a new instance of it with this key inside\n",
    "issuerNodePayloadGenerator = NodePayloadGenerator(\n",
    "    issuerNodePayloadGenerator.did,\n",
    "    issuerNodePayloadGenerator.keys +\n",
    "            (PrismDid.DEFAULT_ISSUING_KEY_ID to issuerKeys[PrismDid.DEFAULT_ISSUING_KEY_ID]?.privateKey!!)\n",
    ")\n",
    "val issuingKeyInfo =\n",
    "    PrismKeyInformation(\n",
    "        DidPublicKey(\n",
    "            PrismDid.DEFAULT_ISSUING_KEY_ID,\n",
    "            IssuingKeyUsage,\n",
    "            issuerKeys[PrismDid.DEFAULT_ISSUING_KEY_ID]?.publicKey!!\n",
    "        )\n",
    ")\n",
    "\n",
    "// creation of UpdateDID operation\n",
    "val addIssuingKeyDidInfo = issuerNodePayloadGenerator.updateDid(\n",
    "    issuerCreateDidInfo.operationHash,\n",
    "    PrismDid.DEFAULT_MASTER_KEY_ID,\n",
    "    keysToAdd = arrayOf(issuingKeyInfo)\n",
    ")\n",
    "\n",
    "// sending the operation to the ledger\n",
    "val addIssuingKeyOperationId = runBlocking {\n",
    "    nodeAuthApi.updateDid(\n",
    "        addIssuingKeyDidInfo.payload,\n",
    "        issuerDid,\n",
    "        PrismDid.DEFAULT_MASTER_KEY_ID,\n",
    "        issuerCreateDidInfo.operationHash,\n",
    "        keysToAdd = arrayOf(issuingKeyInfo),\n",
    "        keysToRevoke = arrayOf()\n",
    "    )\n",
    "}\n",
    "\n",
    "println(\n",
    "    \"\"\"\n",
    "    Issuer: Add issuing key, the transaction can take up to 10 minutes to be confirmed by the Cardano network\n",
    "    - IssuerDID = $issuerDid\n",
    "    - Add issuing key to DID operation identifier = ${addIssuingKeyOperationId.hexValue()}\n",
    "    \"\"\".trimIndent()\n",
    ")"
   ]
  },
  {
   "cell_type": "markdown",
   "id": "e6d1bf1f-f2a4-4090-a365-cd38793eac11",
   "metadata": {
    "tags": []
   },
   "source": [
    "### Prepare credential\n",
    "\n",
    "Now we are ready. Let's create a simple certificate for **Holder** and sign it with the **Issuer's** key:"
   ]
  },
  {
   "cell_type": "code",
   "execution_count": null,
   "id": "876228d2-4e81-4212-a3ed-b9583087019b",
   "metadata": {},
   "outputs": [],
   "source": [
    "// Issuer generates a credential to Holder identified by its unpublished DID\n",
    "val credentialClaim = CredentialClaim(\n",
    "    subjectDid = holderUnpublishedDid,\n",
    "    content =\n",
    "    JsonObject(\n",
    "        mapOf(\n",
    "            Pair(\"name\", JsonPrimitive(\"José López Portillo\")),\n",
    "            Pair(\"certificate\", JsonPrimitive(\"Certificate of PRISM SDK tutorial completion\"))\n",
    "        )\n",
    "    )\n",
    ")\n",
    "val issueCredentialsInfo = issuerNodePayloadGenerator.issueCredentials(\n",
    "    PrismDid.DEFAULT_ISSUING_KEY_ID,\n",
    "    arrayOf(credentialClaim)\n",
    ")"
   ]
  },
  {
   "cell_type": "markdown",
   "id": "54c9ac38-3a1c-479d-ac27-23669fa7447c",
   "metadata": {},
   "source": [
    "**NOTE:** In our protocol, issuing a credential involves creating batches of signed credentials to reduce the time and costs of publishing them. A batch is created even if we publish a single credential."
   ]
  },
  {
   "cell_type": "markdown",
   "id": "b2f959a1-a051-44ad-8518-969edbda5064",
   "metadata": {
    "tags": []
   },
   "source": [
    "## Publish the credential to Cardano\n",
    "\n",
    "Once we have prepared the batch, we can invoke **Atala PRISM Node** to publish it to **Cardano**:"
   ]
  },
  {
   "cell_type": "code",
   "execution_count": null,
   "id": "74ab3363-19a4-4fcf-a954-50116c4dac86",
   "metadata": {},
   "outputs": [],
   "source": [
    "val issueCredentialBatchOperationId = runBlocking {\n",
    "    nodeAuthApi.issueCredentials(\n",
    "        issueCredentialsInfo.payload,\n",
    "        issuerDid,\n",
    "        PrismDid.DEFAULT_ISSUING_KEY_ID,\n",
    "        issueCredentialsInfo.merkleRoot\n",
    "    )\n",
    "}\n",
    "\n",
    "waitUntilConfirmed(nodeAuthApi, issueCredentialBatchOperationId)"
   ]
  },
  {
   "cell_type": "markdown",
   "id": "c715d95c-d17d-4594-828c-d6555a10c76c",
   "metadata": {},
   "source": [
    "**Print out some details of the publish credential operation:**"
   ]
  },
  {
   "cell_type": "code",
   "execution_count": null,
   "id": "7a0b6522-6982-410e-aca1-7716a68cea14",
   "metadata": {},
   "outputs": [],
   "source": [
    "val holderSignedCredential = issueCredentialsInfo.credentialsAndProofs.first().signedCredential\n",
    "val holderCredentialMerkleProof = issueCredentialsInfo.credentialsAndProofs.first().inclusionProof\n",
    "println(\n",
    "    \"\"\"\n",
    "    Issuer [$issuerDid] issued new credentials for the holder [$holderUnpublishedDid].\n",
    "    - issueCredentialBatch operation identifier: ${issueCredentialBatchOperationId.hexValue()}\n",
    "    - Credential content: ${holderSignedCredential.content}\n",
    "    - Signed credential: ${holderSignedCredential.canonicalForm}\n",
    "    - Inclusion proof (encoded): ${holderCredentialMerkleProof.encode()}\n",
    "    - Batch id: ${issueCredentialsInfo.batchId}\n",
    "    \"\"\".trimIndent()\n",
    ")"
   ]
  },
  {
   "cell_type": "markdown",
   "id": "4e38ae46-fdc5-49e2-ad23-446e9bdf1823",
   "metadata": {},
   "source": [
    "## Verifier: Verify Valid Credential\n",
    "\n",
    "**Verifier**, who owns credential claim, can easily verify the validity of the credential. Verifying the credential requires\n",
    "a single method call, which in this case succeeds because the credential is valid:"
   ]
  },
  {
   "cell_type": "code",
   "execution_count": null,
   "id": "b03f97ea-40ce-4854-a558-e9b08deccb07",
   "metadata": {},
   "outputs": [],
   "source": [
    "// Verifier, who owns credentialClam, can easily verify the validity of the credentials.\n",
    "println(\"Verifier: Verifying received credential using single convenience method\")\n",
    "val credentialVerificationServiceResult = runBlocking {\n",
    "    nodeAuthApi.verify(\n",
    "        signedCredential = holderSignedCredential,\n",
    "        merkleInclusionProof = holderCredentialMerkleProof\n",
    "    )\n",
    "}\n",
    "require(credentialVerificationServiceResult.verificationErrors.isEmpty()) {\n",
    "    \"VerificationErrors should be empty\"\n",
    "}"
   ]
  },
  {
   "cell_type": "markdown",
   "id": "18b8f2d9-e8cd-4ad9-aa9f-bb783a2702f1",
   "metadata": {},
   "source": [
    "**NOTE:** In general, **Verifier** would have its DID, generated and published to the **Cardano** in the same way as **Issuer**."
   ]
  },
  {
   "cell_type": "markdown",
   "id": "b54fa449-364a-4401-a421-81d4b4815855",
   "metadata": {},
   "source": [
    "## Issuer: Revoke Credential\n",
    "\n",
    "This section illustrates how **Issuer** can revoke a credential. The API allows to:\n",
    "1. Revoke a single credential.\n",
    "2. Revoke all credentials involved in a batch.\n",
    "3. Revoke many credentials from the same batch.\n",
    "\n",
    "This example shows how to revoke a single credential, but, the other options are available by just switching the method arguments.\n",
    "\n",
    "### Revoke a single credential\n",
    "\n",
    "Before revoking credentials, we need to update the **DID Document** with the new **Revocation Key** that will be used to revoke credentials.\n",
    "After this, just generate the revocation operation and get both operations posted in **Cardano** by the **Node**:\n"
   ]
  },
  {
   "cell_type": "code",
   "execution_count": null,
   "id": "995565f8-d117-45cc-ac0a-eedd23f851a2",
   "metadata": {},
   "outputs": [],
   "source": [
    "// Generator should contain the revocation key so let's create a new instance of it with this key inside\n",
    "issuerNodePayloadGenerator = NodePayloadGenerator(\n",
    "    issuerNodePayloadGenerator.did,\n",
    "    issuerNodePayloadGenerator.keys +\n",
    "            (PrismDid.DEFAULT_REVOCATION_KEY_ID to issuerKeys[PrismDid.DEFAULT_REVOCATION_KEY_ID]?.privateKey!!)\n",
    ")\n",
    "// Issuer revokes the credential\n",
    "val revocationKeyInfo =\n",
    "    PrismKeyInformation(\n",
    "        DidPublicKey(\n",
    "            PrismDid.DEFAULT_REVOCATION_KEY_ID,\n",
    "            RevocationKeyUsage,\n",
    "            issuerKeys[PrismDid.DEFAULT_REVOCATION_KEY_ID]?.publicKey!!\n",
    "        )\n",
    "    )\n",
    "// creation of UpdateDID operation\n",
    "val addRevocationKeyDidInfo = issuerNodePayloadGenerator.updateDid(\n",
    "    addIssuingKeyDidInfo.operationHash,\n",
    "    PrismDid.DEFAULT_MASTER_KEY_ID,\n",
    "    keysToAdd = arrayOf(revocationKeyInfo)\n",
    ")\n",
    "// sending the operation to the ledger\n",
    "val addRevocationKeyOperationId = runBlocking {\n",
    "    nodeAuthApi.updateDid(\n",
    "        addRevocationKeyDidInfo.payload,\n",
    "        issuerDid,\n",
    "        PrismDid.DEFAULT_MASTER_KEY_ID,\n",
    "        addIssuingKeyDidInfo.operationHash,\n",
    "        keysToAdd = arrayOf(revocationKeyInfo),\n",
    "        arrayOf()\n",
    "    )\n",
    "}\n",
    "val revokeCredentialsInfo = issuerNodePayloadGenerator.revokeCredentials(\n",
    "    PrismDid.DEFAULT_REVOCATION_KEY_ID,\n",
    "    issueCredentialsInfo.operationHash,\n",
    "    issueCredentialsInfo.batchId.id,\n",
    "    arrayOf(holderSignedCredential.hash())\n",
    ")\n",
    "val revokeCredentialsOperationId = runBlocking {\n",
    "    nodeAuthApi.revokeCredentials(\n",
    "        revokeCredentialsInfo.payload,\n",
    "        issuerDid,\n",
    "        PrismDid.DEFAULT_REVOCATION_KEY_ID,\n",
    "        issueCredentialsInfo.operationHash,\n",
    "        issueCredentialsInfo.batchId.id,\n",
    "        arrayOf(holderSignedCredential.hash())\n",
    "    )\n",
    "}\n",
    "println(\n",
    "    \"\"\"\n",
    "    Issuer: Asked PRISM Node to revoke credentials. The transaction can take up to 10 minutes to be confirmed by the Cardano network\n",
    "    - addRevocationKey operation identifier: ${addRevocationKeyOperationId.hexValue()}\n",
    "    - revokeCredentials operation identifier: ${revokeCredentialsOperationId.hexValue()}\n",
    "    \"\"\".trimIndent()\n",
    ")\n",
    "println()\n",
    "waitUntilConfirmed(nodeAuthApi, revokeCredentialsOperationId)\n",
    "println(\"Credentials revoked\")"
   ]
  },
  {
   "cell_type": "markdown",
   "id": "e3c4849c-4790-4901-8a1a-c306385bd556",
   "metadata": {},
   "source": [
    "## Verifier: Verify Revoked Credential\n",
    "\n",
    "Analogously to the last verification section, **Verifier** will verify the credential again. However, since it was revoked in the previous step, this time verification **is supposed to fail**.\n",
    "\n",
    "The operations take some minutes to be applied by **Cardano**, once the revoke operation is confirmed, query the revocation time and run the verification again, this time, an exception is thrown explaining that the credential is revoked:"
   ]
  },
  {
   "cell_type": "code",
   "execution_count": null,
   "id": "f1a97fd3-f138-4324-a4f4-a09da1277055",
   "metadata": {},
   "outputs": [],
   "source": [
    "println(\"Verifier: Checking the credential validity again, expect an error explaining that the credential is revoked\")\n",
    "val verifierReceivedCredentialRevocationTime2 = runBlocking {\n",
    "    nodeAuthApi.getCredentialRevocationTime(\n",
    "        batchId = issueCredentialsInfo.batchId.id,\n",
    "        credentialHash = holderSignedCredential.hash()\n",
    "    )\n",
    "}\n",
    "\n",
    "// Verifier checks the credential validity (which fails)\n",
    "val credentialVerificationServiceResult2 = runBlocking {\n",
    "    nodeAuthApi.verify(\n",
    "        signedCredential = holderSignedCredential,\n",
    "        merkleInclusionProof = holderCredentialMerkleProof\n",
    "    )\n",
    "}\n",
    "\n",
    "require(\n",
    "    credentialVerificationServiceResult2.verificationErrors.contains(\n",
    "        VerificationError.CredentialWasRevokedOn(\n",
    "            verifierReceivedCredentialRevocationTime2.ledgerData!!.timestampInfo\n",
    "        )\n",
    "    )\n",
    ") { \"CredentialWasRevokedOn error is expected\" }"
   ]
  },
  {
   "cell_type": "markdown",
   "id": "6486d20f-286d-4f9c-9b38-54f86a44cf88",
   "metadata": {},
   "source": [
    "## Issuer: Deactivate DID\n",
    "\n",
    "This section illustrates how the owner of the identity can deactivate the DID by removing all public keys from the corresponding DID Document.\n"
   ]
  },
  {
   "cell_type": "code",
   "execution_count": null,
   "id": "e5ce2a52-7eb3-48fd-9e0e-b64af65ac0f3",
   "metadata": {},
   "outputs": [],
   "source": [
    "println(\"Issuer: deactivating DID by removing all public keys from the document\")\n",
    "// keyToRevoke should contain the list of all key identifiers stored in the DID Document\n",
    "val keysToRevoke = arrayOf(\n",
    "    PrismDid.DEFAULT_MASTER_KEY_ID,\n",
    "    PrismDid.DEFAULT_ISSUING_KEY_ID,\n",
    "    PrismDid.DEFAULT_REVOCATION_KEY_ID,\n",
    ")\n",
    "val deactivateIssuerDidInfo = issuerNodePayloadGenerator.updateDid(\n",
    "    addRevocationKeyDidInfo.operationHash,\n",
    "    PrismDid.DEFAULT_MASTER_KEY_ID,\n",
    "    keysToRevoke = keysToRevoke\n",
    ")\n",
    "val deactivateIssuerDidOperationId = runBlocking {\n",
    "    nodeAuthApi.updateDid(\n",
    "        deactivateIssuerDidInfo.payload,\n",
    "        issuerDid,\n",
    "        PrismDid.DEFAULT_MASTER_KEY_ID,\n",
    "        addRevocationKeyDidInfo.operationHash,\n",
    "        keysToAdd = arrayOf(),\n",
    "        keysToRevoke\n",
    "    )\n",
    "}"
   ]
  },
  {
   "cell_type": "markdown",
   "id": "0fbbd172-ff93-437a-8044-6384fc64dfc6",
   "metadata": {},
   "source": [
    "## Next steps\n",
    "\n",
    "**That's it, congratulations on completing Node Integration Tutorial!**\n",
    "\n",
    "By now, one should have a decent understanding how to replicate the work done on the [Atala PRISM Interactive Demo Website](https://atalaprism.io).\n"
   ]
  }
 ],
 "metadata": {
  "kernelspec": {
   "display_name": "Kotlin",
   "language": "kotlin",
   "name": "kotlin"
  },
  "language_info": {
   "codemirror_mode": "text/x-kotlin",
   "file_extension": ".kt",
   "mimetype": "text/x-kotlin",
   "name": "kotlin",
   "nbconvert_exporter": "",
   "pygments_lexer": "kotlin",
   "version": "1.7.20-dev-1299"
  }
 },
 "nbformat": 4,
 "nbformat_minor": 5
}