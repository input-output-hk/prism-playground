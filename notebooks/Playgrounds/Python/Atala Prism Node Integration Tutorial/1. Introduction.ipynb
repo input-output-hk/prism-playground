{
 "cells": [
  {
   "cell_type": "markdown",
   "id": "9a24bd0a-13c7-4fdd-bb05-aedde9f72bc9",
   "metadata": {},
   "source": [
    "# Introduction\n",
    "\n",
    "This tutorial walks a user through the necessary steps to integrate the **Atala PRISM SDK** in a project.\n",
    "\n",
    "By the end of the tutorial, one should have learned all the necessary pieces to build an application like [Atala PRISM Interactive Demo Website](https://atalaprism.io).\n",
    "\n",
    "Provided examples are written in [Python](https://www.python.org/), which are using underlying JVM libraries.\n",
    "\n",
    "This tutorial is also available in following languages\n",
    "\n",
    "- [Kotlin](../../Kotlin/Atala%20Prism%20Node%20Integration%20Tutorial/1.%20Introduction.ipynb)\n",
    "\n",
    "The purpose of these examples is to be verbose with the hope that one will find them simple enough to create one's own abstractions.\n",
    "\n",
    "## Actors & Services\n",
    "There are 3 actors involved in the code:\n",
    "1. **Issuer** - acts as an institution that issues credentials.\n",
    "2. **Verifier** - acts as an institution that receives and verifies credentials.\n",
    "3. **Holder** - acts as a person, who wants to get a credential from **Issuer**, so that it gets validated by **Verifier**.\n",
    "\n",
    "On the backend side, **Node** service is involved in this tutorial. **Node** implements the **Atala PRISM** protocol, which is what gets the proofs about **DIDs/Credentials** published on **Cardano** ledger, as well as allows to query such data.\n"
   ]
  }
 ],
 "metadata": {
  "kernelspec": {
   "display_name": "Python 3 (ipykernel)",
   "language": "python",
   "name": "python3"
  },
  "language_info": {
   "codemirror_mode": {
    "name": "ipython",
    "version": 3
   },
   "file_extension": ".py",
   "mimetype": "text/x-python",
   "name": "python",
   "nbconvert_exporter": "python",
   "pygments_lexer": "ipython3",
   "version": "3.10.5"
  }
 },
 "nbformat": 4,
 "nbformat_minor": 5
}