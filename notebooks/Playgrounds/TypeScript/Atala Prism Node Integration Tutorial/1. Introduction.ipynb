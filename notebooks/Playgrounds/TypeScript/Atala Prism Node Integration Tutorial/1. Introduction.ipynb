{
 "cells": [
  {
   "cell_type": "markdown",
   "id": "1e58a19f-1488-4751-8018-31c78a5213b0",
   "metadata": {},
   "source": [
    "# Introduction\n",
    "\n",
    "This tutorial walks a user through the necessary steps to integrate the **Atala PRISM SDK** in a project.\n",
    "\n",
    "By the end of the tutorial, one should have learned all the necessary pieces to build an application like [Atala PRISM Interactive Demo Website](https://atalaprism.io).\n",
    "\n",
    "Provided examples are written in [Kotlin](https://kotlinlang.org/), which can be easily migrated to other programming languages targeting the **Java-Virtual-Machine (JVM)**.\n",
    "\n",
    "The purpose of these examples is to be verbose with the hope that one will find them simple enough to create one's own abstractions.\n",
    "\n",
    "This tutorial is also available in following languages\n",
    "\n",
    "- [Python](../../Python/Atala%20Prism%20Node%20Integration%20Tutorial/1.%20Introduction.ipynb)\n",
    "- [Kotlin](../../Kotlin/Atala%20Prism%20Node%20Integration%20Tutorial/1.%20Introduction.ipynb)\n",
    "- [Typescript](../../TypeScript/Atala%20Prism%20Node%20Integration%20Tutorial/1.%20Introduction.ipynb)\n",
    "\n",
    "## Actors & Services\n",
    "There are 3 actors involved in the code:\n",
    "1. **Issuer** - acts as an institution that issues credentials.\n",
    "2. **Verifier** - acts as an institution that receives and verifies credentials.\n",
    "3. **Holder** - acts as a person, who wants to get a credential from **Issuer**, so that it gets validated by **Verifier**.\n",
    "\n",
    "On the backend side, **Node** service is involved in this tutorial. **Node** implements the **Atala PRISM** protocol, which is what gets the proofs about **DIDs/Credentials** published on **Cardano** ledger, as well as allows to query such data.\n"
   ]
  },
  {
   "cell_type": "code",
   "execution_count": null,
   "id": "2676729f-f13f-4569-bacf-644121037212",
   "metadata": {},
   "outputs": [],
   "source": []
  }
 ],
 "metadata": {
  "kernelspec": {
   "display_name": "Kotlin",
   "language": "kotlin",
   "name": "kotlin"
  },
  "language_info": {
   "codemirror_mode": "text/x-kotlin",
   "file_extension": ".kt",
   "mimetype": "text/x-kotlin",
   "name": "kotlin",
   "nbconvert_exporter": "",
   "pygments_lexer": "kotlin",
   "version": "1.7.20-dev-1299"
  }
 },
 "nbformat": 4,
 "nbformat_minor": 5
}