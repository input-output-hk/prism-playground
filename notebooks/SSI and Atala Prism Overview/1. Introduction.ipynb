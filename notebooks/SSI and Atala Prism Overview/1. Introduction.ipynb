{
 "cells": [
  {
   "cell_type": "markdown",
   "id": "df9039c2-3f8a-41b7-8138-355ff383db53",
   "metadata": {},
   "source": [
    "# Introduction"
   ]
  },
  {
   "cell_type": "markdown",
   "id": "491690d4-436c-4bf7-8273-22a8661700de",
   "metadata": {},
   "source": [
    "Welcome to the central hub for Atala PRISM documentation. Here you will find content that describes and supports the features in the current release of Atala PRISM.\n",
    "\n",
    "Included are explanations of the concepts of self-sovereign identity, and decentralized identity, the architecture and components of Atala PRISM, SDK, tutorials, glossary, and community resources.\n",
    "\n",
    "If you are interested in developing on Atala PRISM, the SDK and Tutorial sections are the first steps to begin the journey. If you are interested in a curated experience to learn Atala PRISM, the [Atala PRISM Astros Program](https://www.atalaprism.io/pioneers) is the place for you. This program includes lectures and coursework structured around the SDK and Tutorial sections on this page. You will also get access to live Q&A sessions, workshops, fireside chats, and access to our team of engineers."
   ]
  },
  {
   "cell_type": "markdown",
   "id": "c2248962-6449-42fa-b79f-fe03570f4fe3",
   "metadata": {},
   "source": [
    "## Getting Started"
   ]
  },
  {
   "cell_type": "markdown",
   "id": "789be66c-b21a-41fb-b26c-5bc6a5070c5f",
   "metadata": {},
   "source": [
    "Atala PRISM is a decentralized identity solution built on the Cardano blockchain. PRISM leverages the self-sovereign identity (SSI) concept to provide a digital credentials product that empowers users to own and control their identity and personal information, which they can share in a secure, private, and trusted way. The Atala PRISM platform allows sharing these credentials enabling a wide range of use cases across multiple verticals.\n",
    "\n",
    "Throughout this documentation, we describe the technical underpinnings of Atala PRISM by presenting its architecture and building blocks. We have used emerging standards and specifications from the W3C and DIF to build our platform. The Decentralized Identifiers (DIDs) and Verifiable Credentials Data Model specification are most notable."
   ]
  },
  {
   "cell_type": "code",
   "execution_count": null,
   "id": "1c955ad2-3db2-4ef8-a64d-e4d2291b299b",
   "metadata": {},
   "outputs": [],
   "source": []
  }
 ],
 "metadata": {
  "kernelspec": {
   "display_name": "Kotlin",
   "language": "kotlin",
   "name": "kotlin"
  },
  "language_info": {
   "codemirror_mode": "text/x-kotlin",
   "file_extension": ".kt",
   "mimetype": "text/x-kotlin",
   "name": "kotlin",
   "nbconvert_exporter": "",
   "pygments_lexer": "kotlin",
   "version": "1.7.20-dev-1299"
  }
 },
 "nbformat": 4,
 "nbformat_minor": 5
}