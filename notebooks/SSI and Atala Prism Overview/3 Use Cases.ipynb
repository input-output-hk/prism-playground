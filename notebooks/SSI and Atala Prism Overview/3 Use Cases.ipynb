{
 "cells": [
  {
   "cell_type": "markdown",
   "id": "44c883f0-08a8-47f0-aa5b-6d26e006bc48",
   "metadata": {},
   "source": [
    "# Use Cases"
   ]
  },
  {
   "cell_type": "markdown",
   "id": "34ac79ec-8ada-45af-b3cb-cbabc1dec89c",
   "metadata": {
    "tags": []
   },
   "source": [
    "## Academic History"
   ]
  },
  {
   "cell_type": "markdown",
   "id": "9a26d9d2-8f4c-4e75-af43-e6acc471ec76",
   "metadata": {},
   "source": [
    "> **Note**: A student wouldn't be completing this enrollment process. Under normal circumstances, a parent/guardian would be. There is a concept called guardianship in SSI that we will touch on in a separate section later.\n",
    "\n",
    "1. Alice scans a QR code on Acme School's website.\n",
    "2. Her agent requests if she wants to establish a connection, she accepts.\n",
    "3. Acme School's agent then requests her personal identifying and general medical information, i.e., allergies and specific medical conditions the school may need to know.\n",
    "4. Alice's agent prompts her for the information. She shares her government ID and her medical history, selecting what pieces of that information she wants to share.\n",
    "5. Acme School's agent receives the credentials, verifies them, and determines that she is eligible.\n",
    "6. Acme School then issues a verified credential for Alice's enrollment.\n",
    "7. Alice accepts the verified credential and can attend the school.\n",
    "\n",
    "\n",
    "### Degree/Certificate Issuance\n",
    "Bob has completed a Bachelor's of Computer Science at GetSmart University. He cannot attend graduation but wants to get his degree now to begin applying for jobs. The school offers to issue a verified credential for proving his completion of the program.\n",
    "\n",
    "1. Bob scans a QR code on the school's website. Since Bob already has a credential from the school for admission, the connection exists. GetSmart's agent requests his VC. Bob shares his student VC.\n",
    "2. GetSmart University's agent verifies Bob's credential as a student.\n",
    "3. The university's agent then verifies that Bob has completed the degree program's prerequisite requirements. It then issues Bob a new credential for his degree.\n",
    "4. Bob's agent receives the degree credential."
   ]
  },
  {
   "cell_type": "markdown",
   "id": "d9b0451b-72f7-4ab9-a9dd-457148b4ca14",
   "metadata": {
    "tags": []
   },
   "source": [
    "## Circular Supply Chain"
   ]
  },
  {
   "cell_type": "markdown",
   "id": "acca47de-e033-4dc9-b716-e0c01e4acb37",
   "metadata": {},
   "source": [
    "Circular supply chains are increasing in importance today. These chains recycle and reuse metals, plastics, wood, electronics, and batteries. Some countries have additional tracking mechanisms and regulations for tracking items like electric vehicle (EV) batteries. As the regulations tighten, there needs to be a reliable, efficient way to track these materials.\n",
    "\n",
    "1. The electric car manufacturer, Nikola begins building a car. A DID is created for the vehicle (even before the car exists).\n",
    "2. As components are added to the car a QR code is scanned that establishes a connection between the car DID and the component. Each component has a VC from the manufacturer detailing who made it, what materials it contains, and when it was manufactured.\n",
    "3. Once the car is finished. Nikola issues the car DID a verified credential, certifying that it has passed all quality checks.\n",
    "\n",
    "\n",
    "Alice buys the car, when the financing is complete, Nikola issues a credential to Alice for ownership. Five years later, one of the battery packs fail. She takes back to Nikola for service.\n",
    "\n",
    "1. During the check-in process, Alice scans a QR code at the counter. The connection to Nikola is already established, since she purchased the car from them. Her agent requests her to share her VC from Nikola for the vehicle. She accepts.\n",
    "2. The technician goes to her car and scans the QR code on the battery pack. He verifies the credential is authentic, validating that the battery pack is the original from Nikola. It happens to be covered under the warranty.\n",
    "3. The technician scans the new battery pack and establishes the connection for it with Alice's car and replaces the old one.\n",
    "4. Alice picks up the car, and can see on the receipt that the DID for the old battery pack was removed and the new battery pack's DID is present.\n",
    "\n",
    "\n",
    "Nikola now needs to recycle the battery pack following the local regulations.\n",
    "1. Nikola takes the battery pack to a recycling center. They scan a QR code.\n",
    "2. Nikola's agent requests to establish a connection.\n",
    "3. The recycling center creates a transaction to complete the monetary transfer of the battery pack. We will assume the DID for both Nikola and the recycling center are included in the transaction.\n",
    "4. When the transaction is processed, a key rotation needs to occur with the DID for the battery pack. Nikola's DID will be deleted and the recycling center's DID will be added.\n",
    "> **Note:** This is crucial, this ensures that Nikola no longer has control of the DID (and the battery pack). If a government were to audit who has the battery pack it would now point to the recycling center not Nikola."
   ]
  },
  {
   "cell_type": "markdown",
   "id": "14b1e5c6-a088-4e42-ab25-95841fd37131",
   "metadata": {
    "tags": []
   },
   "source": [
    "## Financial"
   ]
  },
  {
   "cell_type": "markdown",
   "id": "6242b7e7-026e-42cf-9c3e-0e5e328040c2",
   "metadata": {},
   "source": [
    "Identity and finance go hand-in-hand. There are regulations around the globe that require some moderation for illegal activity through Anti-Money Laundering (AML) and to Know Your Customer (KYC). These are standard requirements that the traditional finance world has navigated for decades. Whether it is banking, loans, mortgages, etc., knowing who you are interfacing with is a common requirement. We will explore several potential use cases in this vertical.\n",
    "\n",
    "### Getting a Bank Account\n",
    "1. Charlie enters a bank branch, MoneyPrinter Inc. There are kiosks to self-serve. Charlie selects the open account option on screen and is prompted with a QR code and scans it.\n",
    "2. Charlie's agent asks if he wants to establish a connection. Charlie accepts.\n",
    "3. MoneyPrinter Inc.'s agent requests Charlie for proof of identity.\n",
    "4. Charlie shares his government ID credential and his previous bank's KYC.\n",
    "5. Charlie's agent prompts a request from the old bank if he wants to share his KYC information with the new bank. He accepts.\n",
    "6. MoneyPrinter's agent verifies that Charlie's credentials are valid. Once completed, the agent issues a verified credential for his bank account.\n",
    "7. Charlie accepts the verified credential. The agent on the kiosk then prompts if he wants to make a deposit.\n",
    "8. Charlie selects yes, and enters the amount he wants to deposit.\n",
    "9. The agent requests his existing banking credential. \n",
    "10. Charlie presents his exisitng VC from CoinPrinter. This credential has his account information that initiates the transfer of funds that he requested and is deposited into his new account.\n",
    "\n",
    "\n",
    "### Microfinancing\n",
    "Microfinancing exists today in various forms around the globe. Traditionally microfinancing is a way to access financing or banking to those who do not have access to those traditional services.\n",
    "\n",
    "1. Alice navigates to the MicroFin Inc. website. She scans a QR code.\n",
    "2. Her agents asks if she wants to establish a connection with MicroFin.\n",
    "3. MicroFin's agent asks for how much financing she needs.\n",
    "4. Alice responds with $500.\n",
    "5. Microfin's agent then requests her identifiable information.\n",
    "6. Alice shares her government ID, but lacks financial and employment credentials.\n",
    "7. Microfin's agent verifies her government ID. Then requests employment information.\n",
    "8. Alice enters in the name of her employer and how much she makes.\n",
    "9. Microfin's agent performs a logical function and determines that she is eligible for financing.\n",
    "10. Microfin issues a verified credential for her account and a second credential for the account to access the funds.\n",
    "11. Alice receives the credentials."
   ]
  },
  {
   "cell_type": "markdown",
   "id": "e54eac8a-f525-4f20-aecf-986b7a1f98a6",
   "metadata": {},
   "source": [
    "## Healthcare"
   ]
  },
  {
   "cell_type": "markdown",
   "id": "931b2b69-ad87-49a4-9ecf-e91bebfc7a93",
   "metadata": {},
   "source": [
    "These examples may seem like a familiar process. They are similar, but the time saved simply by not having to search for all these documents, or make several calls to establish trust, saves an immense amount of time and frustration.\n",
    "\n",
    "### Getting Insurance\n",
    "\n",
    "1. Alice scans the QR code from Acme Insurance company website.\n",
    "2. Alice's agent prompts if she wants to connect, and accepts.\n",
    "3. Acme Insurance's agent requests personal information including a valid id, photo id, address, existing insurance information. Alice elects to share this information from the existing verified credentials that she has.  \n",
    "\n",
    "> **Note:** Alice selects what information she wants to share with Acme Insurance. For example, if a passport credential is shared for proof of ID, she will not include the travel history from the passport.\n",
    "\n",
    "4. Acme Insurance's agent receives the information and attempts to validate the credentials. They come back valid.\n",
    "5. Acme Insurance issues Alice a verified credential with her new insurance information.\n",
    "6. Alice receives the credential and now has proof of insurance.\n",
    "\n",
    "\n",
    "### Record Sharing\n",
    "Alice recently moved and has found a new doctor and needs to share her medical records.\n",
    "\n",
    "1. Alice arrives at the doctor's office and they request her identifying information. She scans a QR code at the reception desk. Alice's agent prompts to establish the connection. She accepts.\n",
    "2. The doctor's office agent requests her identifying credentials and medical records.\n",
    "3. Alice chooses her government ID and her previous doctor's credentials.\n",
    "4. The doctor's office agent attempts to verify the credentials. Both return valid.\n",
    "5. The doctor's agent then issues a verified credential to Alice.\n",
    "6. Alice accepts the credential.\n",
    "\n",
    "> **Note:** Having Alice share her credential from her previous doctor is the pathway that allows the new doctor to request her medical records. This could be accomplished via a delegation or permissioned process."
   ]
  },
  {
   "cell_type": "markdown",
   "id": "41ad32a1-7e6c-4849-b114-f54d4b1c7546",
   "metadata": {},
   "source": [
    "## Governance"
   ]
  },
  {
   "cell_type": "markdown",
   "id": "df09849f-6d0b-412e-8484-9ac50efe255a",
   "metadata": {},
   "source": [
    "Governance is the elephant in the room where everyone has a vested interest. One of the first topics people think of when referring to governance is government. However, voting isn't dependent upon governments. Boards, unions, local organizations all have voting integrated into their frameworks.\n",
    "\n",
    "We have seen paper and digital versions of gathering and tallying the vote. Each method introduces the potential of human error, whether accidental or malicious. Decentralized identity can solve all of these problems - restoring faith in the voting process and trust in the system that creates the ballot.\n",
    "\n",
    "### Voting\n",
    "In any application of voting, there are four key points to a vote:\n",
    "* Eligibility to vote\n",
    "* Who voted\n",
    "* Subject of the vote\n",
    "* The vote\n",
    "\n",
    "In addition to the vote itself, there needs to be a method to tally the votes. This would be a separate agent (software) that handles this process.\n",
    "\n",
    "Bob is a plumber and is a part of a union. He pays dues and has voting power.\n",
    "\n",
    "1. Bob scans the QR code on the union's website. The connection is already established as he is a member.\n",
    "2. The union's agent requests his credential.\n",
    "3. Bob shares his credential.\n",
    "4. The union agent verifies the credential is valid - and not revoked. It comes back valid. The agent then prompts Bob for voting information.\n",
    "5. Bob selects his votes and submits his ballot. The data is recorded onto the blockchain, it is not tied to his identity, but signed with his public key from his DID.\n",
    "6. After the alloted time for voting, the ballots get tallied."
   ]
  },
  {
   "cell_type": "markdown",
   "id": "5e3241e8-f50c-414f-87f8-10353071cb64",
   "metadata": {},
   "source": [
    "## Career & Reputation"
   ]
  },
  {
   "cell_type": "markdown",
   "id": "e7ce6313-02d4-4f4d-ab67-ecc1e25d29ef",
   "metadata": {},
   "source": [
    "### Career Reputation\n",
    "Let's assume a site like Stack Overflow had a verified credential. This credential could track the various subjects and upvotes we received for the questions we answered. Over time, this could add up to show some area of expertise. This could be used for some career based reputation when applying for various jobs.\n",
    "\n",
    "1. Bob scans a QR code on Stack Overflow. The agent asks if he wants to establish a connection with Stack Overflow. He accepts.\n",
    "2. The agent prompts Bob for his Stack Overflow account information. He enters a username and the other required information to setup a Stack Overflow account - and his DID.\n",
    "3. Stack Overflow's agent creates an account tied to his DID. Then the agent issues a verified credential to Bob for his Stack Overflow account.\n",
    "4. Bob receives the VC.\n",
    "\n",
    "After years of working away and answering questions, Bob decides to apply for a new job. \n",
    "1. Bob finds a job on the company's website that he is interested in. He scans the QR code.\n",
    "2. The agent asks if he wants to make a connection, Bob accepts.\n",
    "3. The agent for the potential employer requests his identifying, employer, education information and any other applicable information.\n",
    "4. Bob selects his government ID, credentials from his previous employers, university, and his Stack Overflow credentials and shares them.\n",
    "5. The potential employer's agent attempts to verify the credentials. They are all validated. They take note of the amount of answers and up-voted reviews regarding Plutus.\n",
    "6. The employer contacts Bob for an interview."
   ]
  },
  {
   "cell_type": "markdown",
   "id": "fa09ffc1-86c9-4fee-af02-a803bf5cd0ff",
   "metadata": {},
   "source": [
    "## Telecom"
   ]
  },
  {
   "cell_type": "markdown",
   "id": "20962e90-f239-413a-8ca0-1c764549b6a1",
   "metadata": {},
   "source": [
    "Telecoms are a daily part of life. They offer cellular, telephone, internet, television, and streaming services. Here we explore what this relationship could potentially look like using decentralized identity.\n",
    "\n",
    "### Establishing a Relationship\n",
    "1. Alice scans a QR code on Acme Mobile's website. She gets prompted to establish a connection with Acme Mobile. She accepts.\n",
    "2. Acme Mobile's agent then requests proof of identity.\n",
    "3. Alice share's her government-issued credential, only sharing her name and address.\n",
    "4. Acme Mobile's agent attempts to verify the credential. It returns as authentic. \n",
    "5. Acme Mobile then issues a verified credential for Alice's mobile account.\n",
    "6. Alice receives the verified credential from Acme.\n",
    "\n",
    "\n",
    "### Partner Programs\n",
    "Alice decides she wants to participate in a partner program where WebFlix offers their service at no charge to Acme Mobile's customers.\n",
    "\n",
    "1. Alice scans a QR code on WebFlix's site. Her agent prompts her to establish a connection with WebFlix. She accepts.\n",
    "2. WebFlix's agent prompts for her Acme Mobile credential. Alice shares her credential. \n",
    "3. WebFlix attempts to verify credential, and the agent recognizes the issuer Acme Mobile. \n",
    "4. WebFlix issues a verified credential to Alice for her account access to their service.\n",
    "5. Alice receives the credential. She uses her credential to access the library and begins watching a movie.\n",
    "\n",
    "\n",
    "> **Note**: The credential from WebFlix depends on the Acme Mobile credential being valid. If Alice terminates her service with Acme Mobile at some point, WebFlix will revoke the credential, ending her access to the service."
   ]
  },
  {
   "cell_type": "code",
   "execution_count": null,
   "id": "59b0de97-f4ee-4c3b-ab5d-72adbf985a6e",
   "metadata": {},
   "outputs": [],
   "source": []
  }
 ],
 "metadata": {
  "kernelspec": {
   "display_name": "Kotlin",
   "language": "kotlin",
   "name": "kotlin"
  },
  "language_info": {
   "codemirror_mode": "text/x-kotlin",
   "file_extension": ".kt",
   "mimetype": "text/x-kotlin",
   "name": "kotlin",
   "nbconvert_exporter": "",
   "pygments_lexer": "kotlin",
   "version": "1.7.0-dev-1825"
  }
 },
 "nbformat": 4,
 "nbformat_minor": 5
}
